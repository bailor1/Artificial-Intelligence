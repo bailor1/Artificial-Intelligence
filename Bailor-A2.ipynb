{
 "cells": [
  {
   "cell_type": "markdown",
   "metadata": {},
   "source": [
    "# CMSC471 - Artificial Intelligence - Fall 2020\n",
    "## Instructor: Fereydoon Vafaei\n",
    "# <font color=\"blue\"> Assignment 2: CSP and Propositional Logic</font>"
   ]
  },
  {
   "cell_type": "markdown",
   "metadata": {},
   "source": [
    "Sam Bailor - VK96692"
   ]
  },
  {
   "cell_type": "markdown",
   "metadata": {},
   "source": [
    "## Overview and Learning Objectives"
   ]
  },
  {
   "cell_type": "markdown",
   "metadata": {},
   "source": [
    "- In *Part I* of this assignment, you will practice CSP using `python-constraint` module for preliminary steps of a course scheduling system.\n",
    "\n",
    "- In *Part II* of this assignment, you will do some exerices on propositional logic.\n",
    "\n",
    "Pedagogically, this assignment will help you:\n",
    "- better understand CSP definition, constraint expression and solutions. \n",
    "- better understand and practice propositional logic, logical statements, syntax, semantics, equivalencies and CNF."
   ]
  },
  {
   "cell_type": "markdown",
   "metadata": {},
   "source": [
    "## Part I - CSP in Python for Course Scheduling"
   ]
  },
  {
   "cell_type": "markdown",
   "metadata": {},
   "source": [
    "As mentioned in the lectures, one of the applications of CSP is for solving scheduling problems. Scheduling at large scales is generally a hard problem and includes various types such as task scheduling. Course scheduling at academic institutions is a challenging process. In this part, you are given a simplified version of an introductory-level course scheduling problem.\n",
    "\n",
    "In this simplified CSP, variables and domains include a fixed number of professors (two professors), four AI/ML/NLP courses to be offered, two classrooms, as well as a list of possible days and time slots for classes. The simplified set of constraints includes a few day/time limitations, classroom availability, fitting constraints for classrooms, and faculty course preferences.\n",
    "\n",
    "<b>CSP Definition:</b>\n",
    "\n",
    "<b>Variables and domains:</b>\n",
    "- There are two professors: `[\"Tim\", \"Fred\"]`\n",
    "\n",
    "- There are four courses: `[\"CMSC471\", \"CMSC478\", \"CMSC473\", \"CMSC491\"]`\n",
    "\n",
    "- There are two available classrooms: `[\"ILSB116A\", \"ILSB233\"]`\n",
    "\n",
    "- There are four available days: `[\"Mon\", \"Wed\", \"Tue\", \"Thu\"]`\n",
    "\n",
    "- There are four time slots: `[\"10:00\", \"11:30\", \"2:30\", \"4:00\"]`\n",
    "\n",
    "<b>Constraints:</b>\n",
    "\n",
    "- Day Constraint: Tim doesn't teach on Tue and Thu.\n",
    "\n",
    "- Time Constraint: Tim teaches only at 10:00 and Fred does not teach at 10:00.\n",
    "\n",
    "- Classroom Constraint: ILSB116A is not available on Wed and ILSB233 is not available on Tue.\n",
    "\n",
    "- Fitting Constraint: ILSB233 is not fit for CMSC478 and CMSC491 - so it's not used for those courses!\n",
    "\n",
    "- Course Constraint: Fred doesn't teach CMSC473 and Tim doesn't teach CMSC478.\n",
    "\n",
    "You need to install `python-constraint` for this assignment. It is available [here](https://github.com/python-constraint/python-constraint). In Linux, you can simply install using the terminal: <br>\n",
    "\n",
    "`$ pip install python-constraint`\n",
    "\n",
    "More documentation is available [here](http://labix.org/doc/constraint/).\n"
   ]
  },
  {
   "cell_type": "markdown",
   "metadata": {},
   "source": [
    "## <font color = \"red\">Required Implementation</font>\n",
    "\n",
    "<b>Hint:</b>\n",
    "- Remember that constraints can be represented by logical sentences. Also remember from Propositional Logic equivalencies that $(P \\implies Q) \\equiv \\neg P \\lor Q$ <br>\n",
    "read as: P implies Q is equivalent to negation P or Q\n",
    "\n",
    "\n",
    "- So you can convert the implications to logical `or` in Python. Because you do implication elimination multiple times, you need to implement `implies` function.\n",
    "\n",
    "\n",
    "- Also notice that some constraints are compound. The function that you write for each constraint should precisely, correctly and completely implement the whole constraint by using `implies` function and proper logical connectives.\n",
    "\n",
    "\n",
    "- Enter your code where there is elipsis `...`\n",
    "\n",
    "\n",
    "- <font color=\"red\"><b>NO PARTIAL CREDIT FOR IMPLEMENTATION OF THIS CELL - ALL CONSTRAINTS MUST BE CORRECT; OTHERWISE, IT GETS ZERO CREDIT!</b></font>"
   ]
  },
  {
   "cell_type": "code",
   "execution_count": 29,
   "metadata": {},
   "outputs": [
    {
     "name": "stdout",
     "output_type": "stream",
     "text": [
      "43 assignments found:\n",
      "0: {'professor': 'Fred', 'classroom': 'ILSB233', 'course': 'CMSC471', 'day': 'Thu', 'time': '4:00'}\n",
      "1: {'professor': 'Fred', 'classroom': 'ILSB233', 'course': 'CMSC471', 'day': 'Thu', 'time': '2:30'}\n",
      "2: {'professor': 'Fred', 'classroom': 'ILSB233', 'course': 'CMSC471', 'day': 'Thu', 'time': '11:30'}\n",
      "3: {'professor': 'Fred', 'classroom': 'ILSB233', 'course': 'CMSC471', 'day': 'Wed', 'time': '4:00'}\n",
      "4: {'professor': 'Fred', 'classroom': 'ILSB233', 'course': 'CMSC471', 'day': 'Wed', 'time': '2:30'}\n",
      "5: {'professor': 'Fred', 'classroom': 'ILSB233', 'course': 'CMSC471', 'day': 'Wed', 'time': '11:30'}\n",
      "6: {'professor': 'Fred', 'classroom': 'ILSB233', 'course': 'CMSC471', 'day': 'Mon', 'time': '4:00'}\n",
      "7: {'professor': 'Fred', 'classroom': 'ILSB233', 'course': 'CMSC471', 'day': 'Mon', 'time': '2:30'}\n",
      "8: {'professor': 'Fred', 'classroom': 'ILSB233', 'course': 'CMSC471', 'day': 'Mon', 'time': '11:30'}\n",
      "9: {'professor': 'Fred', 'classroom': 'ILSB116A', 'course': 'CMSC491', 'day': 'Tue', 'time': '4:00'}\n",
      "10: {'professor': 'Fred', 'classroom': 'ILSB116A', 'course': 'CMSC491', 'day': 'Tue', 'time': '2:30'}\n",
      "11: {'professor': 'Fred', 'classroom': 'ILSB116A', 'course': 'CMSC491', 'day': 'Tue', 'time': '11:30'}\n",
      "12: {'professor': 'Fred', 'classroom': 'ILSB116A', 'course': 'CMSC491', 'day': 'Thu', 'time': '4:00'}\n",
      "13: {'professor': 'Fred', 'classroom': 'ILSB116A', 'course': 'CMSC491', 'day': 'Thu', 'time': '2:30'}\n",
      "14: {'professor': 'Fred', 'classroom': 'ILSB116A', 'course': 'CMSC491', 'day': 'Thu', 'time': '11:30'}\n",
      "15: {'professor': 'Fred', 'classroom': 'ILSB116A', 'course': 'CMSC491', 'day': 'Mon', 'time': '4:00'}\n",
      "16: {'professor': 'Fred', 'classroom': 'ILSB116A', 'course': 'CMSC491', 'day': 'Mon', 'time': '2:30'}\n",
      "17: {'professor': 'Fred', 'classroom': 'ILSB116A', 'course': 'CMSC491', 'day': 'Mon', 'time': '11:30'}\n",
      "18: {'professor': 'Fred', 'classroom': 'ILSB116A', 'course': 'CMSC478', 'day': 'Tue', 'time': '4:00'}\n",
      "19: {'professor': 'Fred', 'classroom': 'ILSB116A', 'course': 'CMSC478', 'day': 'Tue', 'time': '2:30'}\n",
      "20: {'professor': 'Fred', 'classroom': 'ILSB116A', 'course': 'CMSC478', 'day': 'Tue', 'time': '11:30'}\n",
      "21: {'professor': 'Fred', 'classroom': 'ILSB116A', 'course': 'CMSC478', 'day': 'Thu', 'time': '4:00'}\n",
      "22: {'professor': 'Fred', 'classroom': 'ILSB116A', 'course': 'CMSC478', 'day': 'Thu', 'time': '2:30'}\n",
      "23: {'professor': 'Fred', 'classroom': 'ILSB116A', 'course': 'CMSC478', 'day': 'Thu', 'time': '11:30'}\n",
      "24: {'professor': 'Fred', 'classroom': 'ILSB116A', 'course': 'CMSC478', 'day': 'Mon', 'time': '4:00'}\n",
      "25: {'professor': 'Fred', 'classroom': 'ILSB116A', 'course': 'CMSC478', 'day': 'Mon', 'time': '2:30'}\n",
      "26: {'professor': 'Fred', 'classroom': 'ILSB116A', 'course': 'CMSC478', 'day': 'Mon', 'time': '11:30'}\n",
      "27: {'professor': 'Fred', 'classroom': 'ILSB116A', 'course': 'CMSC471', 'day': 'Tue', 'time': '4:00'}\n",
      "28: {'professor': 'Fred', 'classroom': 'ILSB116A', 'course': 'CMSC471', 'day': 'Tue', 'time': '2:30'}\n",
      "29: {'professor': 'Fred', 'classroom': 'ILSB116A', 'course': 'CMSC471', 'day': 'Tue', 'time': '11:30'}\n",
      "30: {'professor': 'Fred', 'classroom': 'ILSB116A', 'course': 'CMSC471', 'day': 'Thu', 'time': '4:00'}\n",
      "31: {'professor': 'Fred', 'classroom': 'ILSB116A', 'course': 'CMSC471', 'day': 'Thu', 'time': '2:30'}\n",
      "32: {'professor': 'Fred', 'classroom': 'ILSB116A', 'course': 'CMSC471', 'day': 'Thu', 'time': '11:30'}\n",
      "33: {'professor': 'Fred', 'classroom': 'ILSB116A', 'course': 'CMSC471', 'day': 'Mon', 'time': '4:00'}\n",
      "34: {'professor': 'Fred', 'classroom': 'ILSB116A', 'course': 'CMSC471', 'day': 'Mon', 'time': '2:30'}\n",
      "35: {'professor': 'Fred', 'classroom': 'ILSB116A', 'course': 'CMSC471', 'day': 'Mon', 'time': '11:30'}\n",
      "36: {'professor': 'Tim', 'classroom': 'ILSB233', 'course': 'CMSC473', 'day': 'Wed', 'time': '10:00'}\n",
      "37: {'professor': 'Tim', 'classroom': 'ILSB233', 'course': 'CMSC473', 'day': 'Mon', 'time': '10:00'}\n",
      "38: {'professor': 'Tim', 'classroom': 'ILSB233', 'course': 'CMSC471', 'day': 'Wed', 'time': '10:00'}\n",
      "39: {'professor': 'Tim', 'classroom': 'ILSB233', 'course': 'CMSC471', 'day': 'Mon', 'time': '10:00'}\n",
      "40: {'professor': 'Tim', 'classroom': 'ILSB116A', 'day': 'Mon', 'course': 'CMSC491', 'time': '10:00'}\n",
      "41: {'professor': 'Tim', 'classroom': 'ILSB116A', 'day': 'Mon', 'course': 'CMSC473', 'time': '10:00'}\n",
      "42: {'professor': 'Tim', 'classroom': 'ILSB116A', 'day': 'Mon', 'course': 'CMSC471', 'time': '10:00'}\n"
     ]
    }
   ],
   "source": [
    "# An introductory/draft program to practice CSP solving using python-constraint for course scheduling\n",
    "\n",
    "# Import constraint\n",
    "from constraint import *\n",
    "\n",
    "# Declare a dictionary to hold the variables and domains of faculty, courses, classrooms, days and times\n",
    "varDomainDict = {\"professor\" : [\"Tim\", \"Fred\"], \"course\" : [\"CMSC471\", \"CMSC478\", \"CMSC473\", \"CMSC491\"],\n",
    "                        \"classroom\" : [\"ILSB116A\", \"ILSB233\"], \"day\" : [\"Mon\", \"Wed\", \"Tue\", \"Thu\"],\n",
    "                        \"time\" : [\"10:00\", \"11:30\", \"2:30\", \"4:00\"]}\n",
    "\n",
    "# Create a constraint satisfaction problem\n",
    "csp = Problem()\n",
    "\n",
    "# Add the dict key, value as Variable and their domains to problem\n",
    "for key, value in varDomainDict.items():\n",
    "    csp.addVariable(key, value)\n",
    "\n",
    "### START CODE HERE ###\n",
    "# Functions to implement constraints - NO PARTIAL CREDIT: You must implement everything correctly!\n",
    "# You MUST use implies function for all constraints.\n",
    "# /---------------------------------------------------------------\n",
    "\n",
    "# Function implies takes P and Q, if P => Q is true, it returns true - Hint: Use implication elimination\n",
    "def implies(p, q):\n",
    "    return (not p or q)\n",
    "\n",
    "# Tim does not teach on Tue and Thu - This constraint is provided to help you write others\n",
    "def dayConstraint(professor, day):\n",
    "    if implies(professor == \"Tim\", (day != \"Tue\" and day != \"Thu\")):\n",
    "        return True\n",
    "\n",
    "# Tim teaches only at 10:00 AND Fred does not teach at 10:00\n",
    "def timeConstraint(professor, time):\n",
    "    if implies(professor == \"Tim\", (time == \"10:00\")) and implies(professor == \"Fred\", (time != \"10:00\")):\n",
    "        return True\n",
    "    \n",
    "# ILSB116A is not available on Wed AND ILSB233 is not available on Tue\n",
    "def classroomConstraint(classroom, day):\n",
    "    if implies(classroom == \"ILSB116A\", (day != \"Wed\")) and implies(classroom == \"ILSB233\", (day != \"Tue\")):\n",
    "        return True\n",
    "    \n",
    "# ILSB233 is not fit for CMSC478 and CMSC491 - so it's not used for those courses!\n",
    "def fitConstraint(classroom, course):\n",
    "    if implies(classroom == \"ILSB233\", (course != \"CMSC478\" and course != \"CMSC491\")):\n",
    "        return True\n",
    "    \n",
    "# Fred doesn't teach CMSC473 AND Tim doesn't teach CMSC478\n",
    "def courseConstraint(professor, course):\n",
    "    if implies(professor == \"Fred\", (course != \"CMSC473\")) and implies(professor == \"Tim\", (course != \"CMSC478\")):\n",
    "        return True\n",
    "\n",
    "# /---------------------------------------------------------------\n",
    "\n",
    "# addConstraint dayConstraint - This one is provided to help you write others.\n",
    "csp.addConstraint(dayConstraint, ['professor', 'day'])\n",
    "\n",
    "# Add all other four constraints\n",
    "csp.addConstraint(timeConstraint, ['professor', 'time'])\n",
    "csp.addConstraint(classroomConstraint, ['classroom', 'day'])\n",
    "csp.addConstraint(fitConstraint, ['classroom', 'course'])\n",
    "csp.addConstraint(courseConstraint, ['professor', 'course'])\n",
    "\n",
    "### END CODE HERE ###\n",
    "\n",
    "# Get solutions and print it\n",
    "solutions = csp.getSolutions()\n",
    "print(len(solutions), \"assignments found:\")\n",
    "print('\\n'.join('{}: {}'.format(*k) for k in enumerate(solutions)))"
   ]
  },
  {
   "cell_type": "markdown",
   "metadata": {},
   "source": [
    "## Part I Questions"
   ]
  },
  {
   "cell_type": "markdown",
   "metadata": {},
   "source": [
    "<b>Question 1 [4 points]</b> - Look at the CSP solution above. If you properly follow the implementation based on the comments and constraints, you should get exactly 43 set of valid assignments for variables where none of the constraints are violated. **You must check and verify that no constraint is violated!**\n",
    "\n",
    "For instance, the following are two valid assignments for Fred and Tim respectively:<br>\n",
    "`{'professor': 'Fred', 'classroom': 'ILSB233', 'course': 'CMSC471', 'day': 'Thu', 'time': '4:00'}` <br>\n",
    "`{'professor': 'Tim', 'classroom': 'ILSB233', 'course': 'CMSC473', 'day': 'Wed', 'time': '10:00'}`\n",
    "\n",
    "> Notice that there is NO PARTIAL CREDIT FOR CONSTRAINTS! That means that even if one of your assignments violates a single constraint, you would lose the whole points of this part! So double-check all the assignments to make sure no constraint has been violated.\n",
    "\n",
    "Now check the solution to see if you find any further issues in the solution that may make the solution logically and practically inconsistent for professor and classroom availability. \n",
    "\n",
    "> <b>Hint:</b> For instance, check if a professor can be present at two locations at any given time.  Certainly, there are inconsistencies that this CSP can't address due to insufficiency of constraints. Name two inconsistency issues below:\n",
    "\n",
    "Issue 1: Professor can be scheduled to teach different classes at the same time <br>  \n",
    "Issue 2: Professor can be scheduled to teach different class sections at the same time (i.e., there are two instances of the same class that are taught at the same time, in different buildings) <br>\n",
    "\n",
    "<b>Question 2 [4 points]</b> - Explain how you would address those issues that you found in Q1. Notice that solving a course scheduling problem is a hard problem and a thorough CSP formulation and solution may potentially be defined as an industry project or at the level of a Master's thesis in academia. Nonetheless, in your answer, briefly explain the constraints that can be added to find a good and consistent solution for this CSP. In natural language (without implementation and symbolic logic), add <b>at least two more constraints</b> to resolve the two major issues in the solution that you identified in Q1. Your constraints in English should precisely and clearly address the two issues you found in Q1.\n",
    "\n",
    "New constraint 1 in natural language: Limit the professor to only teach one class at one time. (e.g., Fred can't teach CMSC478 or CMSC491 at 2:30, which leaves him free to teach CMSC471 Monday-Thursday at 2:30) <br>\n",
    "\n",
    "New constraint 2 in natural language: Limit the professor to only one building at one time. (e.g., Tim can only teach at ILSB233)"
   ]
  },
  {
   "cell_type": "markdown",
   "metadata": {},
   "source": [
    "## Part II - Propositional Logic and CNF"
   ]
  },
  {
   "cell_type": "markdown",
   "metadata": {},
   "source": [
    "Answer the following questions on Propositional Logic IN THIS CELL.\n",
    "\n",
    "<b>Question 1 [20 points]</b> - State whether each of the following propositional logic sentences is <b>satisfiable</b> (possibly true or false), <b>unsatisfiable</b> (always false F), or <b>valid</b> (always true T):\n",
    "\n",
    "[a - 2 points] $(P \\land F) \\land T$ - Unsatisfiable\n",
    "\n",
    "\n",
    "[b - 2 points] $\\neg (DEMOCRAT \\lor REPUBLICAN)$ - Satisfiable\n",
    "\n",
    "\n",
    "[c - 2 points] $\\neg STUDY \\implies FAIL$ - Satisfiable\n",
    "\n",
    "\n",
    "[d - 7 points] $(P\\implies \\neg Q) \\implies Q$ - Satisfiable\n",
    "\n",
    "\n",
    "[e - 7 points] $(\\neg Q \\implies \\neg P) \\implies (P \\implies Q)$ - Valid\n",
    "\n",
    "\n",
    "\n",
    "<b>Question 2 [30 points]</b> - Resolution as the inference rule requires sentences to be in Conjunctive Normal Form (CNF).  \n",
    "\n",
    "The procedure to convert Propositional Logic sentences to CNF:\n",
    "\n",
    "- Replace biconditional $(P \\iff Q)$ with $(P \\Rightarrow Q) \\land (Q \\Rightarrow P)$\n",
    "\n",
    "- Eliminate implication. $(P \\Rightarrow Q) \\equiv \\neg P \\lor Q$\n",
    "\n",
    "- Move $\\neg$ inwards, i.e. apply it using DeMorgan or eliminate double-negation if applies.\n",
    "\n",
    "- Distribute $\\lor$ over $\\land$\n",
    "\n",
    "- Flatten nesting ONLY if all connectives inside the inner parentheses and outer parentheses are the same. For example: $((P \\lor Q) \\lor R)$ becomes $(P\\lor Q \\lor R)$. Notice that if connectives are not the same, you can't flatten!\n",
    "\n",
    "You may see an example of CNF conversion in slide 68 of [Chapter-7 slides here](http://aima.eecs.berkeley.edu/slides-pdf/chapter07.pdf).\n",
    "\n",
    "Convert the following sentences to CNF. You should complete ALL the steps correctly. NO PARTIAL CREDIT FOR CNF CONVERSION!\n",
    " <font color=\"red\">You must use inline LaTeX format of Markdown for your answers of Question 2. You can use the same symbols in the questions for your answers. You may also want to see the tables [here](https://oeis.org/wiki/List_of_LaTeX_mathematical_symbols) to get the symbols.</font>\n",
    "\n",
    "\n",
    "\n",
    "[a - 10 points] $(P \\Rightarrow Q) \\implies (U \\land V)$  \n",
    "$(\\neg P \\lor Q) \\implies (U \\land V)$  \n",
    "$\\neg(\\neg P \\lor Q) \\lor (U \\land V)$  \n",
    "$(P \\land \\neg Q) \\lor (U \\land V)$  \n",
    "$(P \\lor U) \\land (\\neg Q \\lor U) \\land (P \\lor V) \\land (\\neg Q \\lor V)$\n",
    "\n",
    "[b - 10 points] $(P \\lor Q) \\land (R \\iff S)$  \n",
    "$(P \\lor Q) \\land (R \\implies S) \\land (S \\implies R)$  \n",
    "$(P \\lor Q) \\land (\\neg R \\lor S) \\land (\\neg S \\lor R)$  \n",
    "\n",
    "[c - 10 points] $(P \\iff Q) \\land (R \\implies S)$  \n",
    "$(P \\implies Q) \\land (Q \\implies P) \\land (R \\implies S)$  \n",
    "$(\\neg P \\lor Q) \\land (\\neg Q \\lor P) \\land (\\neg R \\lor S)$  "
   ]
  },
  {
   "cell_type": "markdown",
   "metadata": {},
   "source": [
    "## Grading"
   ]
  },
  {
   "cell_type": "markdown",
   "metadata": {},
   "source": [
    "Assignment-2 has a maximum of 100 points. Make sure that you get the desired outputs, (i.e. getting the CSP solution as instructed) for the cell that you implemented. Also, your notebook should be written with no grammatical and spelling errors and should be nicely-formatted and easy-to-read.\n",
    "\n",
    "The breakdown of the 100 points is as follows:\n",
    "\n",
    "- Part I has 50 points\n",
    "\n",
    "    - Implementation of all constraints and functions: 42 points - NO PARTIAL CREDIT FOR IMPLEMENTATION OF CONSTRAINTS\n",
    "\n",
    "    - Questions: 8 points\n",
    "\n",
    "- Part II has 50 points:\n",
    "    - Question 1: 20 points\n",
    "    - Question 2: 30 points - NO PARTIAL CREDIT FOR CNF CONVERSION\n",
    "\n",
    "Follow the instructions of each section carefully. Up to 10 points will be deducted if your submitted notebook is not easy to read and follow or if it has grammatical and spelling errors. <br>\n",
    "\n",
    "<font color=\"red\"><b>In answering part II Question 2 (CNF conversion), you must use LaTeX; otherwise, your answer would get ZERO credit even if the answer is correct.</b></font>\n",
    "\n",
    "Remember that you should **NOT** change the format of the notebook by deleting the text or instructions!"
   ]
  },
  {
   "cell_type": "markdown",
   "metadata": {},
   "source": [
    "## How to Submit and Due Date"
   ]
  },
  {
   "cell_type": "markdown",
   "metadata": {},
   "source": [
    "Name your notebook ```Lastname-A2.ipynb```. Submit the file using the ```Assignment-2``` link on Blackboard.\n",
    "\n",
    "Grading will be based on \n",
    "\n",
    "  * correct implementation and logic of all the constraints and functions,\n",
    "  * correct answer to all of the questions,\n",
    "  * proper use of LaTeX in Part II Q2, and\n",
    "  * readability of the notebook with no spelling and grammatical errors.\n",
    "  \n",
    "<font color=red><b>Due Date: Friday October 16th, 11:59PM.</b></font>"
   ]
  }
 ],
 "metadata": {
  "kernelspec": {
   "display_name": "Python 3",
   "language": "python",
   "name": "python3"
  },
  "language_info": {
   "codemirror_mode": {
    "name": "ipython",
    "version": 3
   },
   "file_extension": ".py",
   "mimetype": "text/x-python",
   "name": "python",
   "nbconvert_exporter": "python",
   "pygments_lexer": "ipython3",
   "version": "3.8.3"
  }
 },
 "nbformat": 4,
 "nbformat_minor": 2
}
