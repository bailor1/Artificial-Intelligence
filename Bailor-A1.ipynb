{
 "cells": [
  {
   "cell_type": "markdown",
   "metadata": {
    "id": "dz3ouQynQx6P"
   },
   "source": [
    "# CMSC471 Artificial Intelligence - Fall 2020\n",
    "## Instructor: Fereydoon Vafaei\n",
    "# <font color=blue> Assignment 1: Solving Problems by Searching </font>"
   ]
  },
  {
   "cell_type": "markdown",
   "metadata": {
    "id": "WVHb-8aNQx6P"
   },
   "source": [
    "Sam Bailor - VK96692"
   ]
  },
  {
   "cell_type": "markdown",
   "metadata": {
    "id": "JVcqf3V_Qx6Q"
   },
   "source": [
    "## Overview and Learning Objectives"
   ]
  },
  {
   "cell_type": "markdown",
   "metadata": {
    "id": "dt6nbI_7Qx6R"
   },
   "source": [
    "We've studied two types of search algorithms during the recent lectures: Uninformed Search and Informed Search.\n",
    "\n",
    "Uninformed Search (aka blind search) refers to the search strategies that do not use additional information about states and goal of the search - nothing beyond the provided problem definition. The first algorithms that we studied from Chapter 3 of the Russel & Norvig textbook were Breadth First Search (BFS) and Depth First Search (DFS) which both fall into the category of Uniformed Search.\n",
    "\n",
    "We also studied how we can modify DFS to combine the advantages of BFS (completeness and conditional optimality) with the main advantage of DFS --space complexity of $O(bm)$ where $b$ is the branching factor and $m$ is the maximum depth of the search space. Limited Depth Search and Iterative Deepening DFS were two algorithms that we studied in that section and you are going to use them in Part I of this assignment.\n",
    "\n",
    "In Part II, you are going to practice Informed Search algorithms and heuristic functions. As discussed in the lectures, informed search algorithms use heuristic functions.\n",
    "\n",
    "Finally, in Part III, you will work on an example graph by applying Informed Search algorithms: Greedy Best-First Search and A*. \n",
    "\n",
    "<b>Very Important Note:</b> Read ALL the instructions in this notebook very carefully. Careless reading and skipping lines would be a major source of making mistakes and losing points in your first assignment! Also notice that this assignment has three parts and includes multiple steps and questions. You're strongly recommended to get started early and plan to finish well before the due. Technical problems or other issues/questions on the due date or just a day before would NOT be accepted as an excuse to delay your submission. As stated in the policy, ALL assignments are indvidual work and students are strictly prohibited from collaboration on assignments. Students are responsible to debug the code and resolve any errors that may arise. Students should NOT share any answer, solution, or code/snippet in Piazza. Violations of these policies would be penalized accordingly.\n",
    "\n",
    "Pedagogically, this assignment will help you:\n",
    "- better understand how these algorithms work in pratice. \n",
    "- brush up your Python skills - and possibly learn a couple of new \"Pythonic\" tricks!\n",
    "- pratice reading documentation. This is a very important skill in AI/ML/Data Science collaborative environments and teams.\n",
    "\n",
    "So, let's get started!"
   ]
  },
  {
   "cell_type": "markdown",
   "metadata": {
    "id": "N7cK5p8oQx6R"
   },
   "source": [
    "# Part I - Uninformed Search"
   ]
  },
  {
   "cell_type": "markdown",
   "metadata": {
    "id": "wtXpTU29Qx6R"
   },
   "source": [
    "In <b>Part I</b> of this Jupyter Notebook, you are going to apply Uninformed Search algorithms on a couple of search problems.\n",
    "\n",
    "First, you need to download the search notebook from AIMA GitHub repo. Make sure that it is the 4th edition:\n",
    "https://github.com/aimacode/aima-python/blob/master/search4e.ipynb\n",
    "\n",
    "You are going to use some of the classes and functions of `search4e.ipynb`. You can add cells and paste the borrowed code or a modified version of it.\n",
    "\n",
    "**Note:** In this notebook, students are required to import any necessary class or function from `search4e.ipynb` and add/modify the code wherever it is needed. You are required to resolve any issues or errors that may arise to make all the imported codes as well as YOUR codes run error-free. "
   ]
  },
  {
   "cell_type": "markdown",
   "metadata": {
    "id": "gdpry-B1Qx6S"
   },
   "source": [
    "## <font color=orange> Problems and Nodes"
   ]
  },
  {
   "cell_type": "code",
   "execution_count": 1,
   "metadata": {
    "id": "GRSOsahdQx6S"
   },
   "outputs": [],
   "source": [
    "%matplotlib inline\n",
    "import matplotlib.pyplot as plt\n",
    "import random\n",
    "import heapq\n",
    "import math\n",
    "import sys\n",
    "from collections import defaultdict, deque, Counter\n",
    "from itertools import combinations\n",
    "\n",
    "class Problem(object):\n",
    "    \"\"\"The abstract class for a formal problem. A new domain subclasses this,\n",
    "    overriding `actions` and `results`, and perhaps other methods.\n",
    "    The default heuristic is 0 and the default action cost is 1 for all states.\n",
    "    When yiou create an instance of a subclass, specify `initial`, and `goal` states \n",
    "    (or give an `is_goal` method) and perhaps other keyword args for the subclass.\"\"\"\n",
    "\n",
    "    def __init__(self, initial=None, goal=None, **kwds): \n",
    "        self.__dict__.update(initial=initial, goal=goal, **kwds) \n",
    "        \n",
    "    def actions(self, state):        raise NotImplementedError\n",
    "    def result(self, state, action): raise NotImplementedError\n",
    "    def is_goal(self, state):        return state == self.goal\n",
    "    def action_cost(self, s, a, s1): return 1\n",
    "    def h(self, node):               return 0\n",
    "    \n",
    "    def __str__(self):\n",
    "        return '{}({!r}, {!r})'.format(\n",
    "            type(self).__name__, self.initial, self.goal)\n",
    "    \n",
    "\n",
    "class Node:\n",
    "    \"A Node in a search tree.\"\n",
    "    def __init__(self, state, parent=None, action=None, path_cost=0):\n",
    "        self.__dict__.update(state=state, parent=parent, action=action, path_cost=path_cost)\n",
    "\n",
    "    def __repr__(self): return '<{}>'.format(self.state)\n",
    "    def __len__(self): return 0 if self.parent is None else (1 + len(self.parent))\n",
    "    def __lt__(self, other): return self.path_cost < other.path_cost\n",
    "    \n",
    "    \n",
    "failure = Node('failure', path_cost=math.inf) # Indicates an algorithm couldn't find a solution.\n",
    "cutoff  = Node('cutoff',  path_cost=math.inf) # Indicates iterative deepening search was cut off.\n",
    "    \n",
    "    \n",
    "def expand(problem, node):\n",
    "    \"Expand a node, generating the children nodes.\"\n",
    "    s = node.state\n",
    "    for action in problem.actions(s):\n",
    "        s1 = problem.result(s, action)\n",
    "        cost = node.path_cost + problem.action_cost(s, action, s1)\n",
    "        yield Node(s1, node, action, cost)\n",
    "        \n",
    "\n",
    "def path_actions(node):\n",
    "    \"The sequence of actions to get to this node.\"\n",
    "    if node.parent is None:\n",
    "        return []  \n",
    "    return path_actions(node.parent) + [node.action]\n",
    "\n",
    "\n",
    "def path_states(node):\n",
    "    \"The sequence of states to get to this node.\"\n",
    "    if node in (cutoff, failure, None): \n",
    "        return []\n",
    "    return path_states(node.parent) + [node.state]"
   ]
  },
  {
   "cell_type": "markdown",
   "metadata": {
    "id": "5wC51c6QQx6V"
   },
   "source": [
    "## <font color=orange> Queues"
   ]
  },
  {
   "cell_type": "code",
   "execution_count": 2,
   "metadata": {
    "id": "2bfe_YDZQx6V"
   },
   "outputs": [],
   "source": [
    "FIFOQueue = deque\n",
    "\n",
    "LIFOQueue = list\n",
    "\n",
    "class PriorityQueue:\n",
    "    \"\"\"A queue in which the item with minimum f(item) is always popped first.\"\"\"\n",
    "\n",
    "    def __init__(self, items=(), key=lambda x: x): \n",
    "        self.key = key\n",
    "        self.items = [] # a heap of (score, item) pairs\n",
    "        for item in items:\n",
    "            self.add(item)\n",
    "         \n",
    "    def add(self, item):\n",
    "        \"\"\"Add item to the queuez.\"\"\"\n",
    "        pair = (self.key(item), item)\n",
    "        heapq.heappush(self.items, pair)\n",
    "\n",
    "    def pop(self):\n",
    "        \"\"\"Pop and return the item with min f(item) value.\"\"\"\n",
    "        return heapq.heappop(self.items)[1]\n",
    "    \n",
    "    def top(self): return self.items[0][1]\n",
    "\n",
    "    def __len__(self): return len(self.items)"
   ]
  },
  {
   "cell_type": "markdown",
   "metadata": {
    "id": "JCD6V52-Qx6Z"
   },
   "source": [
    "## <font color=orange> Search Algorithms: Best-First"
   ]
  },
  {
   "cell_type": "code",
   "execution_count": 3,
   "metadata": {
    "id": "m3nOWDu1Qx6Z"
   },
   "outputs": [],
   "source": [
    "def best_first_search(problem, f):\n",
    "    \"Search nodes with minimum f(node) value first.\"\n",
    "    node = Node(problem.initial)\n",
    "    frontier = PriorityQueue([node], key=f)\n",
    "    reached = {problem.initial: node}\n",
    "    while frontier:\n",
    "        node = frontier.pop()\n",
    "        if problem.is_goal(node.state):\n",
    "            return node\n",
    "        for child in expand(problem, node):\n",
    "            s = child.state\n",
    "            if s not in reached or child.path_cost < reached[s].path_cost:\n",
    "                reached[s] = child\n",
    "                frontier.add(child)\n",
    "    return failure\n",
    "\n",
    "\n",
    "def best_first_tree_search(problem, f):\n",
    "    \"A version of best_first_search without the `reached` table.\"\n",
    "    frontier = PriorityQueue([Node(problem.initial)], key=f)\n",
    "    while frontier:\n",
    "        node = frontier.pop()\n",
    "        if problem.is_goal(node.state):\n",
    "            return node\n",
    "        for child in expand(problem, node):\n",
    "            if not is_cycle(child):\n",
    "                frontier.add(child)\n",
    "    return failure\n",
    "\n",
    "\n",
    "def g(n): return n.path_cost\n",
    "\n",
    "\n",
    "def astar_search(problem, h=None):\n",
    "    \"\"\"Search nodes with minimum f(n) = g(n) + h(n).\"\"\"\n",
    "    h = h or problem.h\n",
    "    return best_first_search(problem, f=lambda n: g(n) + h(n))\n",
    "\n",
    "\n",
    "def astar_tree_search(problem, h=None):\n",
    "    \"\"\"Search nodes with minimum f(n) = g(n) + h(n), with no `reached` table.\"\"\"\n",
    "    h = h or problem.h\n",
    "    return best_first_tree_search(problem, f=lambda n: g(n) + h(n))\n",
    "\n",
    "\n",
    "def weighted_astar_search(problem, h=None, weight=1.4):\n",
    "    \"\"\"Search nodes with minimum f(n) = g(n) + weight * h(n).\"\"\"\n",
    "    h = h or problem.h\n",
    "    return best_first_search(problem, f=lambda n: g(n) + weight * h(n))\n",
    "\n",
    "        \n",
    "def greedy_bfs(problem, h=None):\n",
    "    \"\"\"Search nodes with minimum h(n).\"\"\"\n",
    "    h = h or problem.h\n",
    "    return best_first_search(problem, f=h)\n",
    "\n",
    "\n",
    "def uniform_cost_search(problem):\n",
    "    \"Search nodes with minimum path cost first.\"\n",
    "    return best_first_search(problem, f=g)\n",
    "\n",
    "\n",
    "def breadth_first_bfs(problem):\n",
    "    \"Search shallowest nodes in the search tree first; using best-first.\"\n",
    "    return best_first_search(problem, f=len)\n",
    "\n",
    "\n",
    "def depth_first_bfs(problem):\n",
    "    \"Search deepest nodes in the search tree first; using best-first.\"\n",
    "    return best_first_search(problem, f=lambda n: -len(n))\n",
    "\n",
    "\n",
    "def is_cycle(node, k=30):\n",
    "    \"Does this node form a cycle of length k or less?\"\n",
    "    def find_cycle(ancestor, k):\n",
    "        return (ancestor is not None and k > 0 and\n",
    "                (ancestor.state == node.state or find_cycle(ancestor.parent, k - 1)))\n",
    "    return find_cycle(node.parent, k)"
   ]
  },
  {
   "cell_type": "markdown",
   "metadata": {
    "id": "g5mvYaGjQx6b"
   },
   "source": [
    "## <font color=orange> Other Search Algorithms"
   ]
  },
  {
   "cell_type": "code",
   "execution_count": 4,
   "metadata": {
    "id": "mNQuWrWFQx6b"
   },
   "outputs": [],
   "source": [
    "def breadth_first_search(problem):\n",
    "    \"Search shallowest nodes in the search tree first.\"\n",
    "    node = Node(problem.initial)\n",
    "    if problem.is_goal(problem.initial):\n",
    "        return node\n",
    "    frontier = FIFOQueue([node])\n",
    "    reached = {problem.initial}\n",
    "    while frontier:\n",
    "        node = frontier.pop()\n",
    "        for child in expand(problem, node):\n",
    "            s = child.state\n",
    "            if problem.is_goal(s):\n",
    "                return child\n",
    "            if s not in reached:\n",
    "                reached.add(s)\n",
    "                frontier.appendleft(child)\n",
    "    return failure\n",
    "\n",
    "\n",
    "def iterative_deepening_search(problem):\n",
    "    \"Do depth-limited search with increasing depth limits.\"\n",
    "    for limit in range(1, sys.maxsize):\n",
    "        result = depth_limited_search(problem, limit)\n",
    "        if result != cutoff:\n",
    "            return result\n",
    "        \n",
    "        \n",
    "def depth_limited_search(problem, limit=10):\n",
    "    \"Search deepest nodes in the search tree first.\"\n",
    "    frontier = LIFOQueue([Node(problem.initial)])\n",
    "    result = failure\n",
    "    while frontier:\n",
    "        node = frontier.pop()\n",
    "        if problem.is_goal(node.state):\n",
    "            return node\n",
    "        elif len(node) >= limit:\n",
    "            result = cutoff\n",
    "        elif not is_cycle(node):\n",
    "            for child in expand(problem, node):\n",
    "                frontier.append(child)\n",
    "    return result\n",
    "\n",
    "\n",
    "def depth_first_recursive_search(problem, node=None):\n",
    "    if node is None: \n",
    "        node = Node(problem.initial)\n",
    "    if problem.is_goal(node.state):\n",
    "        return node\n",
    "    elif is_cycle(node):\n",
    "        return failure\n",
    "    else:\n",
    "        for child in expand(problem, node):\n",
    "            result = depth_first_recursive_search(problem, child)\n",
    "            if result:\n",
    "                return result\n",
    "        return failure"
   ]
  },
  {
   "cell_type": "markdown",
   "metadata": {
    "id": "PZgcU93vQx6d"
   },
   "source": [
    "## Route Finding Problem"
   ]
  },
  {
   "cell_type": "markdown",
   "metadata": {
    "id": "pMJYLA5BQx6e"
   },
   "source": [
    "Using `RouteProblem` and `Map` classes, define a few new problems as described below called `r5`, `r6`, `r7` that represent different routes on the following **directed** graph. Notice that the `Map` must be defined as **directed**.\n",
    "\n",
    "**Hint**: See how Romania map is defined in `search4e.ipynb`; however, you don't need locations in this case. Also, all the costs are assumed to be identical (the default cost value is 1)."
   ]
  },
  {
   "cell_type": "markdown",
   "metadata": {
    "id": "o0NFrlEKQx6e"
   },
   "source": [
    "The `A1-graph` is illustrated below.\n",
    "\n",
    "<img src=\"A1-graph.png\" align=\"left\"/>"
   ]
  },
  {
   "cell_type": "markdown",
   "metadata": {
    "id": "YriUf7_oQx6f"
   },
   "source": [
    "## <font color=orange> Route Finding Dependencies"
   ]
  },
  {
   "cell_type": "code",
   "execution_count": 5,
   "metadata": {
    "id": "bGeQwubFQx6f"
   },
   "outputs": [],
   "source": [
    "class RouteProblem(Problem):\n",
    "    \"\"\"A problem to find a route between locations on a `Map`.\n",
    "    Create a problem with RouteProblem(start, goal, map=Map(...)}).\n",
    "    States are the vertexes in the Map graph; actions are destination states.\"\"\"\n",
    "    \n",
    "    def actions(self, state): \n",
    "        \"\"\"The places neighboring `state`.\"\"\"\n",
    "        return self.map.neighbors[state]\n",
    "    \n",
    "    def result(self, state, action):\n",
    "        \"\"\"Go to the `action` place, if the map says that is possible.\"\"\"\n",
    "        return action if action in self.map.neighbors[state] else state\n",
    "    \n",
    "    def action_cost(self, s, action, s1):\n",
    "        \"\"\"The distance (cost) to go from s to s1.\"\"\"\n",
    "        return self.map.distances[s, s1]\n",
    "    \n",
    "    def h(self, node):\n",
    "        \"Straight-line distance between state and the goal.\"\n",
    "        locs = self.map.locations\n",
    "        return straight_line_distance(locs[node.state], locs[self.goal])\n",
    "    \n",
    "    \n",
    "def straight_line_distance(A, B):\n",
    "    \"Straight-line distance between two points.\"\n",
    "    return sum(abs(a - b)**2 for (a, b) in zip(A, B)) ** 0.5"
   ]
  },
  {
   "cell_type": "code",
   "execution_count": 6,
   "metadata": {
    "id": "JLd2CZOuQx6h"
   },
   "outputs": [],
   "source": [
    "class Map:\n",
    "    \"\"\"A map of places in a 2D world: a graph with vertexes and links between them. \n",
    "    In `Map(links, locations)`, `links` can be either [(v1, v2)...] pairs, \n",
    "    or a {(v1, v2): distance...} dict. Optional `locations` can be {v1: (x, y)} \n",
    "    If `directed=False` then for every (v1, v2) link, we add a (v2, v1) link.\"\"\"\n",
    "\n",
    "    def __init__(self, links, locations=None, directed=False):\n",
    "        if not hasattr(links, 'items'): # Distances are 1 by default\n",
    "            links = {link: 1 for link in links}\n",
    "        if not directed:\n",
    "            for (v1, v2) in list(links):\n",
    "                links[v2, v1] = links[v1, v2]\n",
    "        self.distances = links\n",
    "        self.neighbors = multimap(links)\n",
    "        self.locations = locations or defaultdict(lambda: (0, 0))\n",
    "        \n",
    "def multimap(pairs) -> dict:\n",
    "    \"Given (key, val) pairs, make a dict of {key: [val,...]}.\"\n",
    "    result = defaultdict(list)\n",
    "    for key, val in pairs:\n",
    "        result[key].append(val)\n",
    "    return result"
   ]
  },
  {
   "cell_type": "markdown",
   "metadata": {},
   "source": [
    "## <font color=green> Route Finding Tests"
   ]
  },
  {
   "cell_type": "code",
   "execution_count": 7,
   "metadata": {
    "id": "s4x7__YCQx6j"
   },
   "outputs": [],
   "source": [
    "A1_graph = Map(\n",
    "    {('a','b'):1, ('a','c'):1, ('a','d'):1, ('b','e'):1, ('b','f'):1, ('b','g'):1, ('c','h'):1,\n",
    "     ('c','i'):1, ('d','j'):1, ('d','k'):1, ('e','l'):1, ('e','m'):1, ('f','n'):1, ('f','o'):1,\n",
    "     ('g','p'):1, ('g','q'):1, ('l','r'):1, ('l','s'):1, ('r','t'):1, ('r','u'):1}, None, True)"
   ]
  },
  {
   "cell_type": "markdown",
   "metadata": {
    "id": "mjT8V2MVQx6l"
   },
   "source": [
    "> `r5` should be defined from `a` to `m` <br>\n",
    "> `r6` should be defined from `a` to `u` <br>\n",
    "> `r7` should be defined from `b` to `d`"
   ]
  },
  {
   "cell_type": "code",
   "execution_count": 8,
   "metadata": {
    "id": "kwh7-JCtQx6l"
   },
   "outputs": [],
   "source": [
    "r5 = RouteProblem('a', 'm', map = A1_graph)\n",
    "\n",
    "r6 = RouteProblem('a', 'u', map = A1_graph)\n",
    "\n",
    "r7 = RouteProblem('b', 'd', map = A1_graph)"
   ]
  },
  {
   "cell_type": "markdown",
   "metadata": {
    "id": "mah5BZmpQx6n"
   },
   "source": [
    "Now, let's try DFS with some example tests on this graph. The correct output is provided for your reference."
   ]
  },
  {
   "cell_type": "code",
   "execution_count": 9,
   "metadata": {
    "colab": {
     "base_uri": "https://localhost:8080/",
     "height": 0
    },
    "id": "jYAY19MEQx6n",
    "outputId": "16181037-73ff-45a0-f09c-d190d41941ff"
   },
   "outputs": [
    {
     "data": {
      "text/plain": [
       "['a', 'b', 'e', 'm']"
      ]
     },
     "execution_count": 9,
     "metadata": {},
     "output_type": "execute_result"
    }
   ],
   "source": [
    "path_states(depth_first_bfs(r5))"
   ]
  },
  {
   "cell_type": "code",
   "execution_count": 10,
   "metadata": {
    "colab": {
     "base_uri": "https://localhost:8080/",
     "height": 0
    },
    "id": "1jzm6kbOQx6q",
    "outputId": "4487eb63-29a9-4a42-f500-c9ec15224018"
   },
   "outputs": [
    {
     "data": {
      "text/plain": [
       "['a', 'b', 'e', 'l', 'r', 'u']"
      ]
     },
     "execution_count": 10,
     "metadata": {},
     "output_type": "execute_result"
    }
   ],
   "source": [
    "path_states(depth_first_bfs(r6))"
   ]
  },
  {
   "cell_type": "markdown",
   "metadata": {
    "id": "bJSZzAlWQx6s"
   },
   "source": [
    ">What if no path exists?! Let's try!"
   ]
  },
  {
   "cell_type": "code",
   "execution_count": 11,
   "metadata": {
    "colab": {
     "base_uri": "https://localhost:8080/",
     "height": 0
    },
    "id": "kPxaR9CbQx6s",
    "outputId": "f095b28c-6bff-459e-e1d5-2317cda1f696"
   },
   "outputs": [
    {
     "data": {
      "text/plain": [
       "[]"
      ]
     },
     "execution_count": 11,
     "metadata": {},
     "output_type": "execute_result"
    }
   ],
   "source": [
    "# Non-existing path!\n",
    "path_states(depth_first_bfs(r7))"
   ]
  },
  {
   "cell_type": "markdown",
   "metadata": {
    "id": "WHbDim7TQx6u"
   },
   "source": [
    "Now, try the tests on `r5` and `r6` with Depth-limited algorithm (with a depth limit of 3) and Iterative-deepening search. Outputs are not provided for these tests."
   ]
  },
  {
   "cell_type": "code",
   "execution_count": 12,
   "metadata": {
    "colab": {
     "base_uri": "https://localhost:8080/",
     "height": 0
    },
    "id": "84EIHThCQx6u",
    "outputId": "8bdee68e-264a-4a6a-d3ab-978057b05d8e"
   },
   "outputs": [
    {
     "data": {
      "text/plain": [
       "['a', 'b', 'e', 'm']"
      ]
     },
     "execution_count": 12,
     "metadata": {},
     "output_type": "execute_result"
    }
   ],
   "source": [
    "path_states(depth_limited_search(r5, limit=3))"
   ]
  },
  {
   "cell_type": "code",
   "execution_count": 21,
   "metadata": {
    "colab": {
     "base_uri": "https://localhost:8080/",
     "height": 0
    },
    "id": "Gyy-IG9zQx6w",
    "outputId": "a52da5f6-7f11-4f2a-94a7-6ebf7dbe02be"
   },
   "outputs": [
    {
     "data": {
      "text/plain": [
       "[]"
      ]
     },
     "execution_count": 21,
     "metadata": {},
     "output_type": "execute_result"
    }
   ],
   "source": [
    "path_states(depth_limited_search(r6, limit=3))"
   ]
  },
  {
   "cell_type": "code",
   "execution_count": 14,
   "metadata": {
    "colab": {
     "base_uri": "https://localhost:8080/",
     "height": 0
    },
    "id": "mGiAKdipQx6x",
    "outputId": "d32a198e-a990-4592-d2f2-8241bd44114b"
   },
   "outputs": [
    {
     "data": {
      "text/plain": [
       "['a', 'b', 'e', 'm']"
      ]
     },
     "execution_count": 14,
     "metadata": {},
     "output_type": "execute_result"
    }
   ],
   "source": [
    "path_states(iterative_deepening_search(r5))"
   ]
  },
  {
   "cell_type": "code",
   "execution_count": 15,
   "metadata": {
    "colab": {
     "base_uri": "https://localhost:8080/",
     "height": 0
    },
    "id": "dHyOgaY-Qx6z",
    "outputId": "e9a8c263-e44c-48b3-a128-e6ecd719e2c0"
   },
   "outputs": [
    {
     "data": {
      "text/plain": [
       "['a', 'b', 'e', 'l', 'r', 'u']"
      ]
     },
     "execution_count": 15,
     "metadata": {},
     "output_type": "execute_result"
    }
   ],
   "source": [
    "path_states(iterative_deepening_search(r6))"
   ]
  },
  {
   "cell_type": "markdown",
   "metadata": {
    "id": "mTa_dZXLQx61"
   },
   "source": [
    "## Grid problem"
   ]
  },
  {
   "cell_type": "markdown",
   "metadata": {
    "id": "YJCRXXwHQx61"
   },
   "source": [
    "Now, try Breadth-first search (`breadth_first_bfs`), DFS (`depth_first_bfs`), Depth-Limited with a default value of the limit, and Iterative Deepening on `d1` grid problem from `search4e.ipynb`.\n",
    "\n",
    "You can use `path_states()` function for the grid problem too. If any runs of the algorithms takes more than 15 minutes on your machine, you may stop the kernel, leave a comment in your code indicating what happened, and move on."
   ]
  },
  {
   "cell_type": "markdown",
   "metadata": {
    "id": "jeE_3Kd4Qx61"
   },
   "source": [
    "## <font color=orange> Grid Problem Dependencies"
   ]
  },
  {
   "cell_type": "code",
   "execution_count": 9,
   "metadata": {
    "id": "UaAOTmiKQx61"
   },
   "outputs": [],
   "source": [
    "class GridProblem(Problem):\n",
    "    \"\"\"Finding a path on a 2D grid with obstacles. Obstacles are (x, y) cells.\"\"\"\n",
    "\n",
    "    def __init__(self, initial=(15, 30), goal=(130, 30), obstacles=(), **kwds):\n",
    "        Problem.__init__(self, initial=initial, goal=goal, \n",
    "                         obstacles=set(obstacles) - {initial, goal}, **kwds)\n",
    "\n",
    "    directions = [(-1, -1), (0, -1), (1, -1),\n",
    "                  (-1, 0),           (1,  0),\n",
    "                  (-1, +1), (0, +1), (1, +1)]\n",
    "    \n",
    "    def action_cost(self, s, action, s1): return straight_line_distance(s, s1)\n",
    "    \n",
    "    def h(self, node): return straight_line_distance(node.state, self.goal)\n",
    "                  \n",
    "    def result(self, state, action): \n",
    "        \"Both states and actions are represented by (x, y) pairs.\"\n",
    "        return action if action not in self.obstacles else state\n",
    "    \n",
    "    def actions(self, state):\n",
    "        \"\"\"You can move one cell in any of `directions` to a non-obstacle cell.\"\"\"\n",
    "        x, y = state\n",
    "        return {(x + dx, y + dy) for (dx, dy) in self.directions} - self.obstacles\n",
    "    \n",
    "class ErraticVacuum(Problem):\n",
    "    def actions(self, state): \n",
    "        return ['suck', 'forward', 'backward']\n",
    "    \n",
    "    def results(self, state, action): return self.table[action][state]\n",
    "    \n",
    "    table = dict(suck=    {1:{5,7}, 2:{4,8}, 3:{7}, 4:{2,4}, 5:{1,5}, 6:{8}, 7:{3,7}, 8:{6,8}},\n",
    "                 forward= {1:{2}, 2:{2}, 3:{4}, 4:{4}, 5:{6}, 6:{6}, 7:{8}, 8:{8}},\n",
    "                 backward={1:{1}, 2:{1}, 3:{3}, 4:{3}, 5:{5}, 6:{5}, 7:{7}, 8:{7}})\n",
    "    \n",
    "# Some grid routing problems\n",
    "\n",
    "# The following can be used to create obstacles:\n",
    "    \n",
    "def random_lines(X=range(15, 130), Y=range(60), N=150, lengths=range(6, 12)):\n",
    "    \"\"\"The set of cells in N random lines of the given lengths.\"\"\"\n",
    "    result = set()\n",
    "    for _ in range(N):\n",
    "        x, y = random.choice(X), random.choice(Y)\n",
    "        dx, dy = random.choice(((0, 1), (1, 0)))\n",
    "        result |= line(x, y, dx, dy, random.choice(lengths))\n",
    "    return result\n",
    "\n",
    "def line(x, y, dx, dy, length):\n",
    "    \"\"\"A line of `length` cells starting at (x, y) and going in (dx, dy) direction.\"\"\"\n",
    "    return {(x + i * dx, y + i * dy) for i in range(length)}\n",
    "\n",
    "random.seed(42) # To make this reproducible\n",
    "\n",
    "frame = line(-10, 20, 0, 1, 20) | line(150, 20, 0, 1, 20)\n",
    "cup = line(102, 44, -1, 0, 15) | line(102, 20, -1, 0, 20) | line(102, 44, 0, -1, 24)\n",
    "\n",
    "d1 = GridProblem(obstacles=random_lines(N=100) | frame)"
   ]
  },
  {
   "cell_type": "markdown",
   "metadata": {},
   "source": [
    "## <font color=green> Grid Problem Tests"
   ]
  },
  {
   "cell_type": "code",
   "execution_count": 17,
   "metadata": {
    "colab": {
     "base_uri": "https://localhost:8080/",
     "height": 1000
    },
    "id": "kQfSkcuFQx63",
    "outputId": "212c5c41-eabf-428d-b31a-aa72b3b12e94"
   },
   "outputs": [
    {
     "data": {
      "text/plain": [
       "[(15, 30),\n",
       " (16, 30),\n",
       " (17, 30),\n",
       " (18, 30),\n",
       " (19, 31),\n",
       " (20, 32),\n",
       " (21, 33),\n",
       " (22, 33),\n",
       " (23, 34),\n",
       " (24, 35),\n",
       " (25, 36),\n",
       " (26, 36),\n",
       " (27, 36),\n",
       " (28, 36),\n",
       " (29, 36),\n",
       " (30, 36),\n",
       " (31, 36),\n",
       " (32, 37),\n",
       " (33, 38),\n",
       " (34, 39),\n",
       " (35, 40),\n",
       " (36, 40),\n",
       " (37, 40),\n",
       " (38, 40),\n",
       " (39, 40),\n",
       " (40, 40),\n",
       " (41, 40),\n",
       " (42, 40),\n",
       " (43, 40),\n",
       " (44, 40),\n",
       " (45, 40),\n",
       " (46, 40),\n",
       " (47, 40),\n",
       " (48, 40),\n",
       " (49, 40),\n",
       " (50, 40),\n",
       " (51, 40),\n",
       " (52, 40),\n",
       " (53, 40),\n",
       " (54, 40),\n",
       " (55, 40),\n",
       " (56, 40),\n",
       " (57, 40),\n",
       " (58, 40),\n",
       " (59, 40),\n",
       " (60, 40),\n",
       " (61, 40),\n",
       " (62, 40),\n",
       " (63, 40),\n",
       " (64, 40),\n",
       " (65, 40),\n",
       " (66, 40),\n",
       " (67, 39),\n",
       " (68, 38),\n",
       " (69, 37),\n",
       " (70, 36),\n",
       " (71, 35),\n",
       " (72, 34),\n",
       " (73, 33),\n",
       " (74, 32),\n",
       " (75, 32),\n",
       " (76, 31),\n",
       " (77, 31),\n",
       " (78, 30),\n",
       " (79, 29),\n",
       " (80, 28),\n",
       " (81, 27),\n",
       " (82, 27),\n",
       " (83, 27),\n",
       " (84, 27),\n",
       " (85, 27),\n",
       " (86, 27),\n",
       " (87, 27),\n",
       " (88, 27),\n",
       " (89, 28),\n",
       " (90, 28),\n",
       " (91, 28),\n",
       " (92, 28),\n",
       " (93, 28),\n",
       " (94, 28),\n",
       " (95, 28),\n",
       " (96, 28),\n",
       " (97, 28),\n",
       " (98, 28),\n",
       " (99, 28),\n",
       " (100, 28),\n",
       " (101, 28),\n",
       " (102, 28),\n",
       " (103, 28),\n",
       " (104, 28),\n",
       " (105, 28),\n",
       " (106, 28),\n",
       " (107, 28),\n",
       " (108, 28),\n",
       " (109, 28),\n",
       " (110, 28),\n",
       " (111, 28),\n",
       " (112, 28),\n",
       " (113, 28),\n",
       " (114, 28),\n",
       " (115, 28),\n",
       " (116, 28),\n",
       " (117, 28),\n",
       " (118, 28),\n",
       " (119, 28),\n",
       " (120, 28),\n",
       " (121, 28),\n",
       " (122, 29),\n",
       " (123, 30),\n",
       " (124, 31),\n",
       " (125, 32),\n",
       " (126, 32),\n",
       " (127, 32),\n",
       " (128, 32),\n",
       " (129, 31),\n",
       " (130, 30)]"
      ]
     },
     "execution_count": 17,
     "metadata": {},
     "output_type": "execute_result"
    }
   ],
   "source": [
    "path_states(breadth_first_bfs(d1))"
   ]
  },
  {
   "cell_type": "code",
   "execution_count": 18,
   "metadata": {
    "colab": {
     "base_uri": "https://localhost:8080/",
     "height": 340
    },
    "id": "2S4Iz62EQx65",
    "outputId": "aa2ade47-8cf0-4fcb-b453-060f4cd3386b"
   },
   "outputs": [
    {
     "ename": "RecursionError",
     "evalue": "maximum recursion depth exceeded",
     "output_type": "error",
     "traceback": [
      "\u001b[1;31m---------------------------------------------------------------------------\u001b[0m",
      "\u001b[1;31mRecursionError\u001b[0m                            Traceback (most recent call last)",
      "\u001b[1;32m<ipython-input-18-4363906d6cd1>\u001b[0m in \u001b[0;36m<module>\u001b[1;34m\u001b[0m\n\u001b[1;32m----> 1\u001b[1;33m \u001b[0mpath_states\u001b[0m\u001b[1;33m(\u001b[0m\u001b[0mdepth_first_bfs\u001b[0m\u001b[1;33m(\u001b[0m\u001b[0md1\u001b[0m\u001b[1;33m)\u001b[0m\u001b[1;33m)\u001b[0m\u001b[1;33m\u001b[0m\u001b[1;33m\u001b[0m\u001b[0m\n\u001b[0m\u001b[0;32m      2\u001b[0m \u001b[1;33m\u001b[0m\u001b[0m\n\u001b[0;32m      3\u001b[0m \u001b[1;31m# RecursionError\u001b[0m\u001b[1;33m\u001b[0m\u001b[1;33m\u001b[0m\u001b[1;33m\u001b[0m\u001b[0m\n",
      "\u001b[1;32m<ipython-input-3-2ab91cc522ee>\u001b[0m in \u001b[0;36mdepth_first_bfs\u001b[1;34m(problem)\u001b[0m\n\u001b[0;32m     68\u001b[0m \u001b[1;32mdef\u001b[0m \u001b[0mdepth_first_bfs\u001b[0m\u001b[1;33m(\u001b[0m\u001b[0mproblem\u001b[0m\u001b[1;33m)\u001b[0m\u001b[1;33m:\u001b[0m\u001b[1;33m\u001b[0m\u001b[1;33m\u001b[0m\u001b[0m\n\u001b[0;32m     69\u001b[0m     \u001b[1;34m\"Search deepest nodes in the search tree first; using best-first.\"\u001b[0m\u001b[1;33m\u001b[0m\u001b[1;33m\u001b[0m\u001b[0m\n\u001b[1;32m---> 70\u001b[1;33m     \u001b[1;32mreturn\u001b[0m \u001b[0mbest_first_search\u001b[0m\u001b[1;33m(\u001b[0m\u001b[0mproblem\u001b[0m\u001b[1;33m,\u001b[0m \u001b[0mf\u001b[0m\u001b[1;33m=\u001b[0m\u001b[1;32mlambda\u001b[0m \u001b[0mn\u001b[0m\u001b[1;33m:\u001b[0m \u001b[1;33m-\u001b[0m\u001b[0mlen\u001b[0m\u001b[1;33m(\u001b[0m\u001b[0mn\u001b[0m\u001b[1;33m)\u001b[0m\u001b[1;33m)\u001b[0m\u001b[1;33m\u001b[0m\u001b[1;33m\u001b[0m\u001b[0m\n\u001b[0m\u001b[0;32m     71\u001b[0m \u001b[1;33m\u001b[0m\u001b[0m\n\u001b[0;32m     72\u001b[0m \u001b[1;33m\u001b[0m\u001b[0m\n",
      "\u001b[1;32m<ipython-input-3-2ab91cc522ee>\u001b[0m in \u001b[0;36mbest_first_search\u001b[1;34m(problem, f)\u001b[0m\n\u001b[0;32m     12\u001b[0m             \u001b[1;32mif\u001b[0m \u001b[0ms\u001b[0m \u001b[1;32mnot\u001b[0m \u001b[1;32min\u001b[0m \u001b[0mreached\u001b[0m \u001b[1;32mor\u001b[0m \u001b[0mchild\u001b[0m\u001b[1;33m.\u001b[0m\u001b[0mpath_cost\u001b[0m \u001b[1;33m<\u001b[0m \u001b[0mreached\u001b[0m\u001b[1;33m[\u001b[0m\u001b[0ms\u001b[0m\u001b[1;33m]\u001b[0m\u001b[1;33m.\u001b[0m\u001b[0mpath_cost\u001b[0m\u001b[1;33m:\u001b[0m\u001b[1;33m\u001b[0m\u001b[1;33m\u001b[0m\u001b[0m\n\u001b[0;32m     13\u001b[0m                 \u001b[0mreached\u001b[0m\u001b[1;33m[\u001b[0m\u001b[0ms\u001b[0m\u001b[1;33m]\u001b[0m \u001b[1;33m=\u001b[0m \u001b[0mchild\u001b[0m\u001b[1;33m\u001b[0m\u001b[1;33m\u001b[0m\u001b[0m\n\u001b[1;32m---> 14\u001b[1;33m                 \u001b[0mfrontier\u001b[0m\u001b[1;33m.\u001b[0m\u001b[0madd\u001b[0m\u001b[1;33m(\u001b[0m\u001b[0mchild\u001b[0m\u001b[1;33m)\u001b[0m\u001b[1;33m\u001b[0m\u001b[1;33m\u001b[0m\u001b[0m\n\u001b[0m\u001b[0;32m     15\u001b[0m     \u001b[1;32mreturn\u001b[0m \u001b[0mfailure\u001b[0m\u001b[1;33m\u001b[0m\u001b[1;33m\u001b[0m\u001b[0m\n\u001b[0;32m     16\u001b[0m \u001b[1;33m\u001b[0m\u001b[0m\n",
      "\u001b[1;32m<ipython-input-2-e6ccf3c3c2ac>\u001b[0m in \u001b[0;36madd\u001b[1;34m(self, item)\u001b[0m\n\u001b[0;32m     14\u001b[0m     \u001b[1;32mdef\u001b[0m \u001b[0madd\u001b[0m\u001b[1;33m(\u001b[0m\u001b[0mself\u001b[0m\u001b[1;33m,\u001b[0m \u001b[0mitem\u001b[0m\u001b[1;33m)\u001b[0m\u001b[1;33m:\u001b[0m\u001b[1;33m\u001b[0m\u001b[1;33m\u001b[0m\u001b[0m\n\u001b[0;32m     15\u001b[0m         \u001b[1;34m\"\"\"Add item to the queuez.\"\"\"\u001b[0m\u001b[1;33m\u001b[0m\u001b[1;33m\u001b[0m\u001b[0m\n\u001b[1;32m---> 16\u001b[1;33m         \u001b[0mpair\u001b[0m \u001b[1;33m=\u001b[0m \u001b[1;33m(\u001b[0m\u001b[0mself\u001b[0m\u001b[1;33m.\u001b[0m\u001b[0mkey\u001b[0m\u001b[1;33m(\u001b[0m\u001b[0mitem\u001b[0m\u001b[1;33m)\u001b[0m\u001b[1;33m,\u001b[0m \u001b[0mitem\u001b[0m\u001b[1;33m)\u001b[0m\u001b[1;33m\u001b[0m\u001b[1;33m\u001b[0m\u001b[0m\n\u001b[0m\u001b[0;32m     17\u001b[0m         \u001b[0mheapq\u001b[0m\u001b[1;33m.\u001b[0m\u001b[0mheappush\u001b[0m\u001b[1;33m(\u001b[0m\u001b[0mself\u001b[0m\u001b[1;33m.\u001b[0m\u001b[0mitems\u001b[0m\u001b[1;33m,\u001b[0m \u001b[0mpair\u001b[0m\u001b[1;33m)\u001b[0m\u001b[1;33m\u001b[0m\u001b[1;33m\u001b[0m\u001b[0m\n\u001b[0;32m     18\u001b[0m \u001b[1;33m\u001b[0m\u001b[0m\n",
      "\u001b[1;32m<ipython-input-3-2ab91cc522ee>\u001b[0m in \u001b[0;36m<lambda>\u001b[1;34m(n)\u001b[0m\n\u001b[0;32m     68\u001b[0m \u001b[1;32mdef\u001b[0m \u001b[0mdepth_first_bfs\u001b[0m\u001b[1;33m(\u001b[0m\u001b[0mproblem\u001b[0m\u001b[1;33m)\u001b[0m\u001b[1;33m:\u001b[0m\u001b[1;33m\u001b[0m\u001b[1;33m\u001b[0m\u001b[0m\n\u001b[0;32m     69\u001b[0m     \u001b[1;34m\"Search deepest nodes in the search tree first; using best-first.\"\u001b[0m\u001b[1;33m\u001b[0m\u001b[1;33m\u001b[0m\u001b[0m\n\u001b[1;32m---> 70\u001b[1;33m     \u001b[1;32mreturn\u001b[0m \u001b[0mbest_first_search\u001b[0m\u001b[1;33m(\u001b[0m\u001b[0mproblem\u001b[0m\u001b[1;33m,\u001b[0m \u001b[0mf\u001b[0m\u001b[1;33m=\u001b[0m\u001b[1;32mlambda\u001b[0m \u001b[0mn\u001b[0m\u001b[1;33m:\u001b[0m \u001b[1;33m-\u001b[0m\u001b[0mlen\u001b[0m\u001b[1;33m(\u001b[0m\u001b[0mn\u001b[0m\u001b[1;33m)\u001b[0m\u001b[1;33m)\u001b[0m\u001b[1;33m\u001b[0m\u001b[1;33m\u001b[0m\u001b[0m\n\u001b[0m\u001b[0;32m     71\u001b[0m \u001b[1;33m\u001b[0m\u001b[0m\n\u001b[0;32m     72\u001b[0m \u001b[1;33m\u001b[0m\u001b[0m\n",
      "\u001b[1;32m<ipython-input-1-b9f23dd2ebab>\u001b[0m in \u001b[0;36m__len__\u001b[1;34m(self)\u001b[0m\n\u001b[0;32m     35\u001b[0m \u001b[1;33m\u001b[0m\u001b[0m\n\u001b[0;32m     36\u001b[0m     \u001b[1;32mdef\u001b[0m \u001b[0m__repr__\u001b[0m\u001b[1;33m(\u001b[0m\u001b[0mself\u001b[0m\u001b[1;33m)\u001b[0m\u001b[1;33m:\u001b[0m \u001b[1;32mreturn\u001b[0m \u001b[1;34m'<{}>'\u001b[0m\u001b[1;33m.\u001b[0m\u001b[0mformat\u001b[0m\u001b[1;33m(\u001b[0m\u001b[0mself\u001b[0m\u001b[1;33m.\u001b[0m\u001b[0mstate\u001b[0m\u001b[1;33m)\u001b[0m\u001b[1;33m\u001b[0m\u001b[1;33m\u001b[0m\u001b[0m\n\u001b[1;32m---> 37\u001b[1;33m     \u001b[1;32mdef\u001b[0m \u001b[0m__len__\u001b[0m\u001b[1;33m(\u001b[0m\u001b[0mself\u001b[0m\u001b[1;33m)\u001b[0m\u001b[1;33m:\u001b[0m \u001b[1;32mreturn\u001b[0m \u001b[1;36m0\u001b[0m \u001b[1;32mif\u001b[0m \u001b[0mself\u001b[0m\u001b[1;33m.\u001b[0m\u001b[0mparent\u001b[0m \u001b[1;32mis\u001b[0m \u001b[1;32mNone\u001b[0m \u001b[1;32melse\u001b[0m \u001b[1;33m(\u001b[0m\u001b[1;36m1\u001b[0m \u001b[1;33m+\u001b[0m \u001b[0mlen\u001b[0m\u001b[1;33m(\u001b[0m\u001b[0mself\u001b[0m\u001b[1;33m.\u001b[0m\u001b[0mparent\u001b[0m\u001b[1;33m)\u001b[0m\u001b[1;33m)\u001b[0m\u001b[1;33m\u001b[0m\u001b[1;33m\u001b[0m\u001b[0m\n\u001b[0m\u001b[0;32m     38\u001b[0m     \u001b[1;32mdef\u001b[0m \u001b[0m__lt__\u001b[0m\u001b[1;33m(\u001b[0m\u001b[0mself\u001b[0m\u001b[1;33m,\u001b[0m \u001b[0mother\u001b[0m\u001b[1;33m)\u001b[0m\u001b[1;33m:\u001b[0m \u001b[1;32mreturn\u001b[0m \u001b[0mself\u001b[0m\u001b[1;33m.\u001b[0m\u001b[0mpath_cost\u001b[0m \u001b[1;33m<\u001b[0m \u001b[0mother\u001b[0m\u001b[1;33m.\u001b[0m\u001b[0mpath_cost\u001b[0m\u001b[1;33m\u001b[0m\u001b[1;33m\u001b[0m\u001b[0m\n\u001b[0;32m     39\u001b[0m \u001b[1;33m\u001b[0m\u001b[0m\n",
      "... last 1 frames repeated, from the frame below ...\n",
      "\u001b[1;32m<ipython-input-1-b9f23dd2ebab>\u001b[0m in \u001b[0;36m__len__\u001b[1;34m(self)\u001b[0m\n\u001b[0;32m     35\u001b[0m \u001b[1;33m\u001b[0m\u001b[0m\n\u001b[0;32m     36\u001b[0m     \u001b[1;32mdef\u001b[0m \u001b[0m__repr__\u001b[0m\u001b[1;33m(\u001b[0m\u001b[0mself\u001b[0m\u001b[1;33m)\u001b[0m\u001b[1;33m:\u001b[0m \u001b[1;32mreturn\u001b[0m \u001b[1;34m'<{}>'\u001b[0m\u001b[1;33m.\u001b[0m\u001b[0mformat\u001b[0m\u001b[1;33m(\u001b[0m\u001b[0mself\u001b[0m\u001b[1;33m.\u001b[0m\u001b[0mstate\u001b[0m\u001b[1;33m)\u001b[0m\u001b[1;33m\u001b[0m\u001b[1;33m\u001b[0m\u001b[0m\n\u001b[1;32m---> 37\u001b[1;33m     \u001b[1;32mdef\u001b[0m \u001b[0m__len__\u001b[0m\u001b[1;33m(\u001b[0m\u001b[0mself\u001b[0m\u001b[1;33m)\u001b[0m\u001b[1;33m:\u001b[0m \u001b[1;32mreturn\u001b[0m \u001b[1;36m0\u001b[0m \u001b[1;32mif\u001b[0m \u001b[0mself\u001b[0m\u001b[1;33m.\u001b[0m\u001b[0mparent\u001b[0m \u001b[1;32mis\u001b[0m \u001b[1;32mNone\u001b[0m \u001b[1;32melse\u001b[0m \u001b[1;33m(\u001b[0m\u001b[1;36m1\u001b[0m \u001b[1;33m+\u001b[0m \u001b[0mlen\u001b[0m\u001b[1;33m(\u001b[0m\u001b[0mself\u001b[0m\u001b[1;33m.\u001b[0m\u001b[0mparent\u001b[0m\u001b[1;33m)\u001b[0m\u001b[1;33m)\u001b[0m\u001b[1;33m\u001b[0m\u001b[1;33m\u001b[0m\u001b[0m\n\u001b[0m\u001b[0;32m     38\u001b[0m     \u001b[1;32mdef\u001b[0m \u001b[0m__lt__\u001b[0m\u001b[1;33m(\u001b[0m\u001b[0mself\u001b[0m\u001b[1;33m,\u001b[0m \u001b[0mother\u001b[0m\u001b[1;33m)\u001b[0m\u001b[1;33m:\u001b[0m \u001b[1;32mreturn\u001b[0m \u001b[0mself\u001b[0m\u001b[1;33m.\u001b[0m\u001b[0mpath_cost\u001b[0m \u001b[1;33m<\u001b[0m \u001b[0mother\u001b[0m\u001b[1;33m.\u001b[0m\u001b[0mpath_cost\u001b[0m\u001b[1;33m\u001b[0m\u001b[1;33m\u001b[0m\u001b[0m\n\u001b[0;32m     39\u001b[0m \u001b[1;33m\u001b[0m\u001b[0m\n",
      "\u001b[1;31mRecursionError\u001b[0m: maximum recursion depth exceeded"
     ]
    }
   ],
   "source": [
    "path_states(depth_first_bfs(d1))\n",
    "\n",
    "# RecursionError"
   ]
  },
  {
   "cell_type": "code",
   "execution_count": 19,
   "metadata": {
    "id": "_IMSmH3dQx66"
   },
   "outputs": [
    {
     "data": {
      "text/plain": [
       "[]"
      ]
     },
     "execution_count": 19,
     "metadata": {},
     "output_type": "execute_result"
    }
   ],
   "source": [
    "path_states(depth_limited_search(d1))"
   ]
  },
  {
   "cell_type": "code",
   "execution_count": null,
   "metadata": {
    "id": "h1vuVWNsQx69"
   },
   "outputs": [],
   "source": [
    "path_states(iterative_deepening_search(d1))\n",
    "\n",
    "#Exceeded 15 minutes"
   ]
  },
  {
   "cell_type": "markdown",
   "metadata": {
    "id": "YFgYeAp7Qx6_"
   },
   "source": [
    "> Next, define a new grid problem named `d8` from `(4,4)` to `(8,3)` with no obstacles, and with the default directions, and run all the aforementioned algorithms BFS, DFS (this time the other version i.e. `depth_first_recursive_search`), depth-limited with default limit and iterative-deepening on it."
   ]
  },
  {
   "cell_type": "code",
   "execution_count": 19,
   "metadata": {
    "id": "gsrXgqFfQx6_"
   },
   "outputs": [],
   "source": [
    "d8 = GridProblem((4,4), (8,3))"
   ]
  },
  {
   "cell_type": "code",
   "execution_count": 20,
   "metadata": {
    "colab": {
     "base_uri": "https://localhost:8080/",
     "height": 34
    },
    "id": "7RGDBCHeQx7B",
    "outputId": "be36998d-5751-408b-e4f1-d544ed85968f"
   },
   "outputs": [
    {
     "data": {
      "text/plain": [
       "[(4, 4), (5, 4), (6, 4), (7, 4), (8, 3)]"
      ]
     },
     "execution_count": 20,
     "metadata": {
      "tags": []
     },
     "output_type": "execute_result"
    }
   ],
   "source": [
    "path_states(breadth_first_bfs(d8))"
   ]
  },
  {
   "cell_type": "code",
   "execution_count": 21,
   "metadata": {
    "colab": {
     "base_uri": "https://localhost:8080/",
     "height": 34
    },
    "id": "yv7-e-XIQx7C",
    "outputId": "c8f6b6e1-983d-42cb-e217-cf10cd484b02"
   },
   "outputs": [
    {
     "data": {
      "text/plain": [
       "[(4, 4), (5, 4), (6, 4), (7, 3), (8, 3)]"
      ]
     },
     "execution_count": 21,
     "metadata": {
      "tags": []
     },
     "output_type": "execute_result"
    }
   ],
   "source": [
    "path_states(depth_first_recursive_search(d8))"
   ]
  },
  {
   "cell_type": "code",
   "execution_count": 22,
   "metadata": {
    "colab": {
     "base_uri": "https://localhost:8080/",
     "height": 204
    },
    "id": "KjfpQKr4Qx7E",
    "outputId": "7e259b44-d923-4ccf-b0f1-98a39ea2b8b0"
   },
   "outputs": [
    {
     "data": {
      "text/plain": [
       "[(4, 4),\n",
       " (5, 3),\n",
       " (5, 2),\n",
       " (4, 1),\n",
       " (4, 0),\n",
       " (4, -1),\n",
       " (5, 0),\n",
       " (5, 1),\n",
       " (6, 2),\n",
       " (7, 2),\n",
       " (8, 3)]"
      ]
     },
     "execution_count": 22,
     "metadata": {
      "tags": []
     },
     "output_type": "execute_result"
    }
   ],
   "source": [
    "path_states(depth_limited_search(d8))"
   ]
  },
  {
   "cell_type": "code",
   "execution_count": 23,
   "metadata": {
    "colab": {
     "base_uri": "https://localhost:8080/",
     "height": 34
    },
    "id": "UMI0W_exQx7F",
    "outputId": "de19493f-ac0a-4515-950c-262c41102b3a"
   },
   "outputs": [
    {
     "data": {
      "text/plain": [
       "[(4, 4), (5, 3), (6, 2), (7, 2), (8, 3)]"
      ]
     },
     "execution_count": 23,
     "metadata": {
      "tags": []
     },
     "output_type": "execute_result"
    }
   ],
   "source": [
    "path_states(iterative_deepening_search(d8))"
   ]
  },
  {
   "cell_type": "markdown",
   "metadata": {
    "id": "iVgLExWCQx7H"
   },
   "source": [
    "## Part I Questions"
   ]
  },
  {
   "cell_type": "markdown",
   "metadata": {
    "id": "Sk1sNt_LQx7H"
   },
   "source": [
    "- Q1 [2 points] - What is the minimum required depth limit for Depth-limited search so that it can return the desired output for `r6`?\n",
    "\n",
    "\n",
    "- Q2 [4 points] - Which of the algorithms that you tried returned a solution path for `d1`?\n",
    "\n",
    "- Q3 [4 points] - Which of the algorithms that you tried returned a solution path for `d8`?\n",
    "\n",
    "<font color=red>Enter your answers in the following markdown cell.</font>"
   ]
  },
  {
   "cell_type": "markdown",
   "metadata": {
    "id": "kirDrYSQQx7H"
   },
   "source": [
    "- Your answers to Part I questions go here - below the lines:\n",
    "\n",
    "========================================================\n",
    "\n",
    "\n",
    "YOUR Answers:\n",
    "\n",
    "- Q1: The minimum required depth limit for r6 to output its paths is 5\n",
    "\n",
    "- Q2: breadth_first_bfs and depth_limited_search\n",
    "\n",
    "- Q3: all algorithms (breadth_first_bfs, depth_first_recursive_search, depth_limited_search, and iterative_deepening_search)"
   ]
  },
  {
   "cell_type": "markdown",
   "metadata": {
    "id": "DRO4Xln2Qx7H"
   },
   "source": [
    "# Part II - Informed Search & Heuristics"
   ]
  },
  {
   "cell_type": "markdown",
   "metadata": {
    "id": "zjUoxPfoQx7I"
   },
   "source": [
    "In <b>Part II</b> of this Jupyter Notebook, you apply informed search algorithms on 8-puzzle problem."
   ]
  },
  {
   "cell_type": "markdown",
   "metadata": {
    "id": "XrwbsidvQx7I"
   },
   "source": [
    "Remember how I tried to [solve it online](http://www.tilepuzzles.com/default.asp?p=12) during the lecture? Now, Artificial Intelligence will help solve this puzzle! \n",
    "\n",
    "The state of the puzzle are represented as a list of integers. 0 represents the empty position. "
   ]
  },
  {
   "cell_type": "markdown",
   "metadata": {
    "id": "Cq-CQ8SGQx7J"
   },
   "source": [
    "> The following is an example start state. The blank is represented by a 0 digit."
   ]
  },
  {
   "cell_type": "code",
   "execution_count": 10,
   "metadata": {
    "id": "Qr9BwkKzQx7J"
   },
   "outputs": [],
   "source": [
    "startState = (1, 0, 3, 4, 2, 5, 6, 7, 8)"
   ]
  },
  {
   "cell_type": "markdown",
   "metadata": {},
   "source": [
    "## <font color=orange> 8 Puzzle Dependencies"
   ]
  },
  {
   "cell_type": "code",
   "execution_count": 20,
   "metadata": {},
   "outputs": [],
   "source": [
    "class EightPuzzle(Problem):\n",
    "    \"\"\" The problem of sliding tiles numbered from 1 to 8 on a 3x3 board,\n",
    "    where one of the squares is a blank, trying to reach a goal configuration.\n",
    "    A board state is represented as a tuple of length 9, where the element at index i \n",
    "    represents the tile number at index i, or 0 if for the empty square, e.g. the goal:\n",
    "        1 2 3\n",
    "        4 5 6 ==> (1, 2, 3, 4, 5, 6, 7, 8, 0)\n",
    "        7 8 _\n",
    "    \"\"\"\n",
    "\n",
    "    def __init__(self, initial, goal=(0, 1, 2, 3, 4, 5, 6, 7, 8)):\n",
    "        assert inversions(initial) % 2 == inversions(goal) % 2 # Parity check\n",
    "        self.initial, self.goal = initial, goal\n",
    "    \n",
    "    def actions(self, state):\n",
    "        \"\"\"The indexes of the squares that the blank can move to.\"\"\"\n",
    "        moves = ((1, 3),    (0, 2, 4),    (1, 5),\n",
    "                 (0, 4, 6), (1, 3, 5, 7), (2, 4, 8),\n",
    "                 (3, 7),    (4, 6, 8),    (7, 5))\n",
    "        blank = state.index(0)\n",
    "        return moves[blank]\n",
    "    \n",
    "    def result(self, state, action):\n",
    "        \"\"\"Swap the blank with the square numbered `action`.\"\"\"\n",
    "        s = list(state)\n",
    "        blank = state.index(0)\n",
    "        s[action], s[blank] = s[blank], s[action]\n",
    "        return tuple(s)\n",
    "    \n",
    "    def h1(self, node):\n",
    "        \"\"\"The misplaced tiles heuristic.\"\"\"\n",
    "        return hamming_distance(node.state, self.goal)\n",
    "    \n",
    "    def h2(self, node):\n",
    "        \"\"\"The Manhattan heuristic.\"\"\"\n",
    "        X = (0, 1, 2, 0, 1, 2, 0, 1, 2)\n",
    "        Y = (0, 0, 0, 1, 1, 1, 2, 2, 2)\n",
    "        return sum(abs(X[s] - X[g]) + abs(Y[s] - Y[g])\n",
    "                   for (s, g) in zip(node.state, self.goal) if s != 0)\n",
    "    \n",
    "    def h3(self, node): \n",
    "        \"\"\"The Manhattan heuristic. (plus square root)\"\"\"\n",
    "        X = (0, 1, 2, 0, 1, 2, 0, 1, 2)\n",
    "        Y = (0, 0, 0, 1, 1, 1, 2, 2, 2)\n",
    "        return (sum(abs(X[s] - X[g]) + abs(Y[s] - Y[g])\n",
    "                   for (s, g) in zip(node.state, self.goal) if s != 0)) ** 1/2\n",
    "    \n",
    "    def h4(self, node): return max(self.h1(node), self.h2(node))\n",
    "    \n",
    "    def h(self, node): return self.h2(node)\n",
    "    \n",
    "    \n",
    "def hamming_distance(A, B):\n",
    "    \"Number of positions where vectors A and B are different.\"\n",
    "    return sum(a != b for a, b in zip(A, B))\n",
    "    \n",
    "\n",
    "def inversions(board):\n",
    "    \"The number of times a piece is a smaller number than a following piece.\"\n",
    "    return sum((a > b and a != 0 and b != 0) for (a, b) in combinations(board, 2))\n",
    "    \n",
    "    \n",
    "def board8(board, fmt=(3 * '{} {} {}\\n')):\n",
    "    \"A string representing an 8-puzzle board\"\n",
    "    return fmt.format(*board).replace('0', '_')\n",
    "\n",
    "class Board(defaultdict):\n",
    "    empty = '.'\n",
    "    off = '#'\n",
    "    def __init__(self, board=None, width=8, height=8, to_move=None, **kwds):\n",
    "        if board is not None:\n",
    "            self.update(board)\n",
    "            self.width, self.height = (board.width, board.height) \n",
    "        else:\n",
    "            self.width, self.height = (width, height)\n",
    "        self.to_move = to_move\n",
    "\n",
    "    def __missing__(self, key):\n",
    "        x, y = key\n",
    "        if x < 0 or x >= self.width or y < 0 or y >= self.height:\n",
    "            return self.off\n",
    "        else:\n",
    "            return self.empty\n",
    "        \n",
    "    def __repr__(self):\n",
    "        def row(y): return ' '.join(self[x, y] for x in range(self.width))\n",
    "        return '\\n'.join(row(y) for y in range(self.height))\n",
    "            \n",
    "    def __hash__(self): \n",
    "        return hash(tuple(sorted(self.items()))) + hash(self.to_move)"
   ]
  },
  {
   "cell_type": "markdown",
   "metadata": {},
   "source": [
    "## <font color=green> 8 Puzzle Tests"
   ]
  },
  {
   "cell_type": "markdown",
   "metadata": {
    "id": "hlQyHmaEQx7K"
   },
   "source": [
    "> Define a new `EightPuzzle` problem named `e6` with `initial` as `startState`."
   ]
  },
  {
   "cell_type": "code",
   "execution_count": 21,
   "metadata": {
    "id": "lem9_zQmQx7L"
   },
   "outputs": [],
   "source": [
    "e6 = EightPuzzle(startState)"
   ]
  },
  {
   "cell_type": "markdown",
   "metadata": {
    "id": "gMe2KcKPQx7M"
   },
   "source": [
    "> Solve `e6` using `weighted_astar_search` and show the solution path with `path_states()` function."
   ]
  },
  {
   "cell_type": "code",
   "execution_count": 22,
   "metadata": {
    "id": "8yIQoTEqQx7M"
   },
   "outputs": [
    {
     "name": "stdout",
     "output_type": "stream",
     "text": [
      "1 _ 3\n",
      "4 2 5\n",
      "6 7 8\n",
      "\n",
      "1 2 3\n",
      "4 _ 5\n",
      "6 7 8\n",
      "\n",
      "1 2 3\n",
      "_ 4 5\n",
      "6 7 8\n",
      "\n",
      "_ 2 3\n",
      "1 4 5\n",
      "6 7 8\n",
      "\n",
      "2 _ 3\n",
      "1 4 5\n",
      "6 7 8\n",
      "\n",
      "2 3 _\n",
      "1 4 5\n",
      "6 7 8\n",
      "\n",
      "2 3 5\n",
      "1 4 _\n",
      "6 7 8\n",
      "\n",
      "2 3 5\n",
      "1 _ 4\n",
      "6 7 8\n",
      "\n",
      "2 _ 5\n",
      "1 3 4\n",
      "6 7 8\n",
      "\n",
      "_ 2 5\n",
      "1 3 4\n",
      "6 7 8\n",
      "\n",
      "1 2 5\n",
      "_ 3 4\n",
      "6 7 8\n",
      "\n",
      "1 2 5\n",
      "3 _ 4\n",
      "6 7 8\n",
      "\n",
      "1 2 5\n",
      "3 4 _\n",
      "6 7 8\n",
      "\n",
      "1 2 _\n",
      "3 4 5\n",
      "6 7 8\n",
      "\n",
      "1 _ 2\n",
      "3 4 5\n",
      "6 7 8\n",
      "\n",
      "_ 1 2\n",
      "3 4 5\n",
      "6 7 8\n",
      "\n"
     ]
    }
   ],
   "source": [
    "for s in path_states(weighted_astar_search(e6)):\n",
    "    print(board8(s))"
   ]
  },
  {
   "cell_type": "markdown",
   "metadata": {
    "id": "6OP35uLzQx7O"
   },
   "source": [
    "## Unsolvable 8-Puzzle Problems"
   ]
  },
  {
   "cell_type": "markdown",
   "metadata": {
    "id": "-NNqvVUwQx7O"
   },
   "source": [
    "There are cases in which the [8 puzzle is not solvable](https://www.cs.princeton.edu/courses/archive/fall12/cos226/assignments/8puzzle.html). For example, in the simple example below, switching the position of 1 and 2 makes it impossible to reach the goal state. It would seem that this could be done with a few simple slides, but tests with several algorithms show that they cannot find a solution.\n",
    "\n",
    "In general, an odd number of inversions ([inverted number positions](https://www.geeksforgeeks.org/check-instance-8-puzzle-solvable/)) from the starting state in comparision to the goal state leads to an unsolvable puzzle."
   ]
  },
  {
   "cell_type": "code",
   "execution_count": 23,
   "metadata": {
    "id": "NnDeEcXvQx7O"
   },
   "outputs": [],
   "source": [
    "unsolvable_startState = (2, 1, 3, 4, 5, 6, 7, 8, 0)"
   ]
  },
  {
   "cell_type": "markdown",
   "metadata": {
    "id": "vQmDoTzlQx7Q"
   },
   "source": [
    "> Try to define a new `EightPuzzle` problem named `e7` using `unsolvable_startState`."
   ]
  },
  {
   "cell_type": "code",
   "execution_count": 24,
   "metadata": {
    "id": "NYT8lu3jQx7Q"
   },
   "outputs": [
    {
     "ename": "AssertionError",
     "evalue": "",
     "output_type": "error",
     "traceback": [
      "\u001b[1;31m---------------------------------------------------------------------------\u001b[0m",
      "\u001b[1;31mAssertionError\u001b[0m                            Traceback (most recent call last)",
      "\u001b[1;32m<ipython-input-24-9dfb1dfed3ff>\u001b[0m in \u001b[0;36m<module>\u001b[1;34m\u001b[0m\n\u001b[1;32m----> 1\u001b[1;33m \u001b[0me7\u001b[0m \u001b[1;33m=\u001b[0m \u001b[0mEightPuzzle\u001b[0m\u001b[1;33m(\u001b[0m\u001b[0munsolvable_startState\u001b[0m\u001b[1;33m)\u001b[0m\u001b[1;33m\u001b[0m\u001b[1;33m\u001b[0m\u001b[0m\n\u001b[0m\u001b[0;32m      2\u001b[0m \u001b[1;33m\u001b[0m\u001b[0m\n\u001b[0;32m      3\u001b[0m \u001b[1;31m# AssertionError\u001b[0m\u001b[1;33m\u001b[0m\u001b[1;33m\u001b[0m\u001b[1;33m\u001b[0m\u001b[0m\n",
      "\u001b[1;32m<ipython-input-20-39cb085cbe7b>\u001b[0m in \u001b[0;36m__init__\u001b[1;34m(self, initial, goal)\u001b[0m\n\u001b[0;32m     10\u001b[0m \u001b[1;33m\u001b[0m\u001b[0m\n\u001b[0;32m     11\u001b[0m     \u001b[1;32mdef\u001b[0m \u001b[0m__init__\u001b[0m\u001b[1;33m(\u001b[0m\u001b[0mself\u001b[0m\u001b[1;33m,\u001b[0m \u001b[0minitial\u001b[0m\u001b[1;33m,\u001b[0m \u001b[0mgoal\u001b[0m\u001b[1;33m=\u001b[0m\u001b[1;33m(\u001b[0m\u001b[1;36m0\u001b[0m\u001b[1;33m,\u001b[0m \u001b[1;36m1\u001b[0m\u001b[1;33m,\u001b[0m \u001b[1;36m2\u001b[0m\u001b[1;33m,\u001b[0m \u001b[1;36m3\u001b[0m\u001b[1;33m,\u001b[0m \u001b[1;36m4\u001b[0m\u001b[1;33m,\u001b[0m \u001b[1;36m5\u001b[0m\u001b[1;33m,\u001b[0m \u001b[1;36m6\u001b[0m\u001b[1;33m,\u001b[0m \u001b[1;36m7\u001b[0m\u001b[1;33m,\u001b[0m \u001b[1;36m8\u001b[0m\u001b[1;33m)\u001b[0m\u001b[1;33m)\u001b[0m\u001b[1;33m:\u001b[0m\u001b[1;33m\u001b[0m\u001b[1;33m\u001b[0m\u001b[0m\n\u001b[1;32m---> 12\u001b[1;33m         \u001b[1;32massert\u001b[0m \u001b[0minversions\u001b[0m\u001b[1;33m(\u001b[0m\u001b[0minitial\u001b[0m\u001b[1;33m)\u001b[0m \u001b[1;33m%\u001b[0m \u001b[1;36m2\u001b[0m \u001b[1;33m==\u001b[0m \u001b[0minversions\u001b[0m\u001b[1;33m(\u001b[0m\u001b[0mgoal\u001b[0m\u001b[1;33m)\u001b[0m \u001b[1;33m%\u001b[0m \u001b[1;36m2\u001b[0m \u001b[1;31m# Parity check\u001b[0m\u001b[1;33m\u001b[0m\u001b[1;33m\u001b[0m\u001b[0m\n\u001b[0m\u001b[0;32m     13\u001b[0m         \u001b[0mself\u001b[0m\u001b[1;33m.\u001b[0m\u001b[0minitial\u001b[0m\u001b[1;33m,\u001b[0m \u001b[0mself\u001b[0m\u001b[1;33m.\u001b[0m\u001b[0mgoal\u001b[0m \u001b[1;33m=\u001b[0m \u001b[0minitial\u001b[0m\u001b[1;33m,\u001b[0m \u001b[0mgoal\u001b[0m\u001b[1;33m\u001b[0m\u001b[1;33m\u001b[0m\u001b[0m\n\u001b[0;32m     14\u001b[0m \u001b[1;33m\u001b[0m\u001b[0m\n",
      "\u001b[1;31mAssertionError\u001b[0m: "
     ]
    }
   ],
   "source": [
    "e7 = EightPuzzle(unsolvable_startState)\n",
    "\n",
    "# AssertionError"
   ]
  },
  {
   "cell_type": "markdown",
   "metadata": {
    "id": "mX2BbuhyQx7S"
   },
   "source": [
    "## Heuristic Functions: h3 and h4"
   ]
  },
  {
   "cell_type": "markdown",
   "metadata": {
    "id": "dLnNQbWgQx7S"
   },
   "source": [
    "Add two new heuristics `h3` and `h4` to `EightPuzzle` class. `h3` should be the squared root of Manhattan distance and `h4` should be defined as the maximum of `h1` and `h2`. Try running the `weighted_astar_search` on `e6` once with `h3` and once with `h4`. They should run error-free ---we will test your code!"
   ]
  },
  {
   "cell_type": "markdown",
   "metadata": {
    "id": "kBafITQcQx7S"
   },
   "source": [
    "## Comparing Heuristics"
   ]
  },
  {
   "cell_type": "markdown",
   "metadata": {
    "id": "nr9IFUMNQx7T"
   },
   "source": [
    "Similar to \"Comparing heuritic\" report in `search4e.ipynb` and using `CountCalls` class, generate a report to compare the results of A* using the four heuristics `h1`, `h2`, `h3`, and `h4` on `e6`."
   ]
  },
  {
   "cell_type": "markdown",
   "metadata": {},
   "source": [
    "## <font color=orange> Comparing Heuristics Dependencies"
   ]
  },
  {
   "cell_type": "code",
   "execution_count": 25,
   "metadata": {},
   "outputs": [],
   "source": [
    "class CountCalls:\n",
    "    \"\"\"Delegate all attribute gets to the object, and count them in ._counts\"\"\"\n",
    "    def __init__(self, obj):\n",
    "        self._object = obj\n",
    "        self._counts = Counter()\n",
    "        \n",
    "    def __getattr__(self, attr):\n",
    "        \"Delegate to the original object, after incrementing a counter.\"\n",
    "        self._counts[attr] += 1\n",
    "        return getattr(self._object, attr)\n",
    "\n",
    "        \n",
    "def report(searchers, problems, verbose=True):\n",
    "    \"\"\"Show summary statistics for each searcher (and on each problem unless verbose is false).\"\"\"\n",
    "    for searcher in searchers:\n",
    "        print(searcher.__name__ + ':')\n",
    "        total_counts = Counter()\n",
    "        for p in problems:\n",
    "            prob   = CountCalls(p)\n",
    "            soln   = searcher(prob)\n",
    "            counts = prob._counts; \n",
    "            counts.update(actions=len(soln), cost=soln.path_cost)\n",
    "            total_counts += counts\n",
    "            if verbose: report_counts(counts, str(p)[:40])\n",
    "        report_counts(total_counts, 'TOTAL\\n')\n",
    "        \n",
    "def report_counts(counts, name):\n",
    "    \"\"\"Print one line of the counts report.\"\"\"\n",
    "    print('{:9,d} nodes |{:9,d} goal |{:5.0f} cost |{:8,d} actions | {}'.format(\n",
    "          counts['result'], counts['is_goal'], counts['cost'], counts['actions'], name))"
   ]
  },
  {
   "cell_type": "markdown",
   "metadata": {},
   "source": [
    "## <font color=green> Comparing Heuristics Report"
   ]
  },
  {
   "cell_type": "code",
   "execution_count": 26,
   "metadata": {
    "id": "Iep1zD7LQx7T"
   },
   "outputs": [
    {
     "name": "stdout",
     "output_type": "stream",
     "text": [
      "astar_misplaced_tiles:\n",
      "      918 nodes |      340 goal |   15 cost |     354 actions | EightPuzzle((1, 0, 3, 4, 2, 5, 6, 7, 8),\n",
      "      918 nodes |      340 goal |   15 cost |     354 actions | TOTAL\n",
      "\n",
      "astar_manhattan:\n",
      "      330 nodes |      123 goal |   15 cost |     137 actions | EightPuzzle((1, 0, 3, 4, 2, 5, 6, 7, 8),\n",
      "      330 nodes |      123 goal |   15 cost |     137 actions | TOTAL\n",
      "\n",
      "astar_sqrt_manhattan:\n",
      "      836 nodes |      312 goal |   15 cost |     326 actions | EightPuzzle((1, 0, 3, 4, 2, 5, 6, 7, 8),\n",
      "      836 nodes |      312 goal |   15 cost |     326 actions | TOTAL\n",
      "\n",
      "astar_max:\n",
      "      341 nodes |      127 goal |   15 cost |     141 actions | EightPuzzle((1, 0, 3, 4, 2, 5, 6, 7, 8),\n",
      "      341 nodes |      127 goal |   15 cost |     141 actions | TOTAL\n",
      "\n"
     ]
    }
   ],
   "source": [
    "def astar_misplaced_tiles(problem): return weighted_astar_search(problem, h=problem.h1)\n",
    "\n",
    "def astar_manhattan(problem): return weighted_astar_search(problem, h=problem.h2)\n",
    "\n",
    "def astar_sqrt_manhattan(problem): return weighted_astar_search(problem, h=problem.h3)\n",
    "\n",
    "def astar_max(problem): return weighted_astar_search(problem, h=problem.h4)\n",
    "\n",
    "report([astar_misplaced_tiles, astar_manhattan, astar_sqrt_manhattan, astar_max], [e6])"
   ]
  },
  {
   "cell_type": "markdown",
   "metadata": {
    "id": "fzlOr8jpQx7U"
   },
   "source": [
    "## Part II Questions"
   ]
  },
  {
   "cell_type": "markdown",
   "metadata": {
    "id": "g94hJ9y-Qx7V"
   },
   "source": [
    "- Q4 [2 points] - Could you define `e7`? Explain why based on the provided resources in the links above.\n",
    "\n",
    "- Q5 [8 points] - According to the report you generated, which heuristic is the best one among `[h1, h2, h3, h4]`? Explain COMPLETELY."
   ]
  },
  {
   "cell_type": "markdown",
   "metadata": {
    "id": "Baf0o_6yQx7V"
   },
   "source": [
    "- Your answers to Part II questions go here - below the lines:\n",
    "\n",
    "========================================================\n",
    "\n",
    "\n",
    "YOUR Answers:\n",
    "\n",
    "- Q4: I could not define e7 because the start state creates an unsolvable board. e7's board is unsolvable because it has an odd number of inversions and the goal board has an even number of inversions, where \"an inversion is any pair of blocks i and j where i < j but i appears after j when considering the board in row-major order.\" A start state of: (2, 1, 3, 4, 5, 6, 7, 8, 0) has 1 inversion (2-1).\n",
    "\n",
    "- Q5: The best heuristic is the manhattan heuristic since it explores the least amount of nodes, gets to the goal the fastest, and executes the fewest number of actions."
   ]
  },
  {
   "cell_type": "markdown",
   "metadata": {
    "id": "Y6gThN07Qx7V"
   },
   "source": [
    "# Part III - GBFS and A*"
   ]
  },
  {
   "cell_type": "markdown",
   "metadata": {
    "id": "Ear9fltoQx7V"
   },
   "source": [
    "The following graph is similar to the example you worked on as class activity. Answer the following questions. <font color=red> ALL your answers should be typed in including the math inequality. Handwritten answers or screenshots will get NO credit. You may use [Latex](https://oeis.org/wiki/List_of_LaTeX_mathematical_symbols) for math. You can put your math equations between `$` You may also put them between `$$` to align it on center</font>. See how Latex is used in the questions to display the math by putting them between `$$`\n",
    "\n",
    "<img src=\"A-star.png\" align=\"left\"/>"
   ]
  },
  {
   "cell_type": "markdown",
   "metadata": {
    "id": "vyzvNm1uQx7W"
   },
   "source": [
    "## Part III Questions"
   ]
  },
  {
   "cell_type": "markdown",
   "metadata": {
    "id": "ZEkGSTKFQx7W"
   },
   "source": [
    "- Q6- What solution and goal would be returned if you run Greedy Best-First Search on this graph? What is the total cost of solution?\n",
    "\n",
    "\n",
    "- Q7- What solution and goal would be returned if you run A-star Search on this graph? What is the total cost of solution?\n",
    "\n",
    "\n",
    "- Q8- Is this heuristic admissible? You must prove admissibility using the inequality from slides for every node or to prove otherwise you must show a counter-example.\n",
    "$$\\forall\\, node\\,n, h(n) \\le h^*(n)$$\n",
    "> where $h^*(n)$ is the true actual (minimal) cost from $n$ to goal\n",
    "\n",
    "\n",
    "\n",
    "- Q9- Is this heuristic consistent? You must prove consistency using the inequality from slides for every node or to prove otherwise you must show a counter-example.\n",
    " a heuristic $h$ is consistent if for every node $n$ of a parent node $p$,\n",
    "\n",
    "$$h(p) \\le h(n) + \\mathrm{stepcost}(p,n)$$"
   ]
  },
  {
   "cell_type": "markdown",
   "metadata": {
    "id": "Anj-IQoDQx7W"
   },
   "source": [
    "YOUR Answers Go HERE:\n",
    "\n",
    "- Q6- S -> B -> E -> J -> G1 (total cost = 30)\n",
    "\n",
    "\n",
    "- Q7- S -> A -> C -> F -> G1 (total cost = 35)\n",
    "\n",
    "\n",
    "- Q8- Admissability Test: $\\forall\\, node\\,n, h(n) \\le h^*(n)$\n",
    "      S: h(n) = 10, h*(n) = 30 ✓\n",
    "      A: h(n) = 12, h*(n) = 30 ✓\n",
    "      B: h(n) = 10, h*(n) = 20 ✓\n",
    "      C: h(n) = 10, h*(n) = 20 ✓\n",
    "      D: h(n) = 15, h*(n) = 15 ✓\n",
    "      E: h(n) = 10, h*(n) = 10 ✓\n",
    "      F: h(n) = 10, h*(n) = 10 ✓\n",
    "      H: h(n) = 5, h*(n) = 10 ✓\n",
    "      J: h(n) = 5, h*(n) = 5 ✓\n",
    "      K: h(n) = 10, h*(n) = 10 ✓\n",
    "      This heuristic is admissable\n",
    "\n",
    "\n",
    "- Q9- Consistency Test: $h(p) \\le h(n) + \\mathrm{stepcost}(p,n)$\n",
    "      S to A: h(p) = 10, h(n) = 12, stepcost(p,n) =5 ✓\n",
    "      S to B: h(p) = 10, h(n) = 10, stepcost(p,n) = 10 ✓\n",
    "      A to C: h(p) = 12, h(n) = 10, stepcost(p,n) = 10 ✓\n",
    "      A to D: h(p) = 12, h(n) = 15, stepcost(p,n) = 10 ✓\n",
    "      B to E: h(p) = 10, h(n) = 10, stepcost(p,n) = 10 ✓\n",
    "      C to F: h(p) = 10, h(n) = 10, stepcost(p,n) = 10 ✓\n",
    "      D to H: h(p) = 15, h(n) = 5, stepcost(p,n) = 10 ✓\n",
    "      D to J: h(p) = 15, h(n) = 5, stepcost(p,n) = 10 ✓\n",
    "      E to J: h(p) = 10, h(n) = 5, stepcost(p,n) = 5 ✓\n",
    "      E to K: h(p) = 10, h(n) = 10, stepcost(p,n) = 5 ✓\n",
    "      F to G1: h(p) = 10, h(n) = 0, stepcost(p,n) = 10 ✓\n",
    "      H to G1: h(p) = 5, h(n) = 0, stepcost(p,n) = 10 ✓\n",
    "      J to G1: h(p) = 5, h(n) = 0, stepcost(p,n) = 5 ✓\n",
    "      K to G2: h(p) = 10, h(n) = 0, stepcost(p,n) = 10 ✓\n",
    "      This heuristic is consistent"
   ]
  },
  {
   "cell_type": "markdown",
   "metadata": {
    "id": "if9HXCEeQx7W"
   },
   "source": [
    "<font color=blue>Congratulations! </font>You finished the first assignment of AI class! You learned and praticed a lot of things that we discussed in class. This is one of the cool features of Jupyter Notebooks, you can have all the contents, text, codes and plots in an interactive environment. We are going to have similar assignments for the following sections and chapters. Stay tuned! "
   ]
  },
  {
   "cell_type": "markdown",
   "metadata": {
    "id": "RCmORA6LQx7X"
   },
   "source": [
    "## Grading\n",
    "\n",
    "Assignment 1 has a maximum of 100 points. Make sure that you get the desired outputs for all cells that you implemented. Also, your notebook should be written with no grammatical and spelling errors and should be nicely-formatted and easy-to-read.\n",
    "\n",
    "The breakdown of the 100 points is as follows:\n",
    "\n",
    "Part I has 40 points:\n",
    "- 30 points: codes and correct outputs\n",
    "- 10 points: correct answer of the Part I question {Q1: 2 points Q2 & Q3: 4 points}\n",
    "\n",
    "Part II has 35 points:\n",
    "- 25 points: codes and correct outputs\n",
    "- 10 points: correct answers of Part II questions{Q4: 2 points Q5: 8 points}\n",
    "\n",
    "Part III has 25 points:\n",
    "- 5 points: Greedy Best First Search (Q6)\n",
    "- 5 points: A* (Q7)\n",
    "- 5 points: Admissibility (Q8)\n",
    "- 10 points: Consistency (Q9)\n",
    "\n",
    "Follow the instructions of each part and section carefully.\n",
    "\n",
    "<b>Up to 10 points will be deducted if your submitted notebook is not easy to read and follow or if it has grammatical and spelling errors.</b>"
   ]
  },
  {
   "cell_type": "markdown",
   "metadata": {
    "id": "-SpkB85iQx7Y"
   },
   "source": [
    "## How to Submit and Due Date"
   ]
  },
  {
   "cell_type": "markdown",
   "metadata": {
    "id": "RUuoKHjpQx7Y"
   },
   "source": [
    "Name your notebook ```Lastname-A1.ipynb```.  So, for me it would be ```Vafaei-A1.ipynb```.  Submit ONLY the Jupyter Notebook file using the ```Assignment-1``` link on Blackboard. You should NOT include the `.png` images for the graphs, we don't need them!\n",
    "\n",
    "Grading will be based on \n",
    "\n",
    "  * correct implementation, correct answer to the questions, and\n",
    "  * readability of the notebook.\n",
    "  \n",
    "<font color=red><b>Due Date: Monday October 5th, 11:59PM.</b></font>"
   ]
  },
  {
   "cell_type": "markdown",
   "metadata": {
    "id": "qQQ9ZpgOQx7Y"
   },
   "source": [
    "## References\n",
    "\n",
    "- AI A Modern Approach - 4th Edition - Russel & Norvig Textbook"
   ]
  }
 ],
 "metadata": {
  "anaconda-cloud": {},
  "colab": {
   "name": "AI-Assignment-1-F20.ipynb",
   "provenance": []
  },
  "kernelspec": {
   "display_name": "Python 3",
   "language": "python",
   "name": "python3"
  },
  "language_info": {
   "codemirror_mode": {
    "name": "ipython",
    "version": 3
   },
   "file_extension": ".py",
   "mimetype": "text/x-python",
   "name": "python",
   "nbconvert_exporter": "python",
   "pygments_lexer": "ipython3",
   "version": "3.8.3"
  }
 },
 "nbformat": 4,
 "nbformat_minor": 1
}
