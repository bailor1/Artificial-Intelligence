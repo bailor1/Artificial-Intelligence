{
 "cells": [
  {
   "cell_type": "markdown",
   "metadata": {},
   "source": [
    "# CMSC471 - Assignment 0: Technology Setup, Chapter 1, and Colab"
   ]
  },
  {
   "cell_type": "markdown",
   "metadata": {},
   "source": [
    "Sam Bailor - VK96692"
   ]
  },
  {
   "cell_type": "markdown",
   "metadata": {},
   "source": [
    "## Overview and Learning Objectives"
   ]
  },
  {
   "cell_type": "markdown",
   "metadata": {},
   "source": [
    "This assignment prepares you for the upcoming assignments to make sure that you have setup the frameworks properly. So, it's a warm-up for the Jupyter Notebook environment.\n",
    "\n",
    "It also provides you with some further resources as a follow-up on our class discussions in Session 2."
   ]
  },
  {
   "cell_type": "markdown",
   "metadata": {},
   "source": [
    "# Part I - Python Setup"
   ]
  },
  {
   "cell_type": "markdown",
   "metadata": {},
   "source": [
    "In <b>Part I</b> of this Jupyter Notebook, you must run the following cell and make sure that your Python version is correct. Depending on what OS you're using, your output might be slightly different but the Python version must be 3.x."
   ]
  },
  {
   "cell_type": "code",
   "execution_count": 4,
   "metadata": {},
   "outputs": [
    {
     "name": "stdout",
     "output_type": "stream",
     "text": [
      "Python version\n",
      "3.8.3 (default, Jul  2 2020, 17:30:36) [MSC v.1916 64 bit (AMD64)]\n",
      "Version info.\n",
      "sys.version_info(major=3, minor=8, micro=3, releaselevel='final', serial=0)\n"
     ]
    }
   ],
   "source": [
    "import sys\n",
    "print(\"Python version\")\n",
    "print (sys.version)\n",
    "print(\"Version info.\")\n",
    "print (sys.version_info)"
   ]
  },
  {
   "cell_type": "markdown",
   "metadata": {},
   "source": [
    "Next, run the following cell."
   ]
  },
  {
   "cell_type": "code",
   "execution_count": 6,
   "metadata": {},
   "outputs": [
    {
     "name": "stdout",
     "output_type": "stream",
     "text": [
      "[70.2, 66, 80.3, 95.2, 80, 91]\n"
     ]
    },
    {
     "data": {
      "text/plain": [
       "Text(0, 0.5, 'Grade')"
      ]
     },
     "execution_count": 6,
     "metadata": {},
     "output_type": "execute_result"
    },
    {
     "data": {
      "image/png": "[encoded data removed]",
      "text/plain": [
       "<Figure size 432x288 with 1 Axes>"
      ]
     },
     "metadata": {
      "needs_background": "light"
     },
     "output_type": "display_data"
    }
   ],
   "source": [
    "import matplotlib.pyplot as plt\n",
    "%matplotlib inline\n",
    "\n",
    "# Create a list of grades\n",
    "grades = [70.2, 66, 80.3, 95.2, 80, 91]\n",
    "\n",
    "# Print the list\n",
    "print(grades)\n",
    "\n",
    "# Plot grades\n",
    "plt.plot(grades,'-o')\n",
    "plt.xlabel('Assignment')\n",
    "plt.ylabel('Grade')"
   ]
  },
  {
   "cell_type": "markdown",
   "metadata": {},
   "source": [
    "Hopefully your grades would be much better than this plot! :-)"
   ]
  },
  {
   "cell_type": "markdown",
   "metadata": {},
   "source": [
    "## Part II - Chapter 1 Supplementary Resources"
   ]
  },
  {
   "cell_type": "markdown",
   "metadata": {},
   "source": [
    "In <b>Part II</b> of this Jupyter Notebook, you should answer some questions based on the suggested resources.\n",
    "\n",
    "First, read the following article:\n",
    "\n",
    "https://futureoflife.org/background/benefits-risks-of-artificial-intelligence/?cn-reloaded=1\n",
    "\n",
    "Now, answer the following question in the following cell where it says \"YOUR ANSWERS GO HERE\":\n",
    "\n",
    "Q1 [2 points]- Pick one of the Myths vs Facts mentioned in the article, quote it and then expand it by including and explaining your own opinion.\n",
    "\n",
    "Next, watch the following video:\n",
    "\n",
    "https://www.youtube.com/watch?v=Ls1_tqlpMww\n",
    "\n",
    "Now answer the following questions in the following cell:\n",
    "\n",
    "Q2 [1 point]- Based on the \"World Economic Forum Video: AI on Track to Achieving Superintelligence?\", what countries are considered as the \"Superpowers of AI\"?\n",
    "\n",
    "Q3 [1 point]- According to Professor Rita Singh from CMU, why processing human voice is important? What neuro-disease she believes Hitler had based on analyzing his voice?\n",
    "\n",
    "Finally, read the following article:\n",
    "\n",
    "https://www.commondreams.org/news/2020/06/09/your-turn-amazon-and-microsoft-civil-liberties-advocates-applaud-ibm-decision-ditch?utm_campaign=shareaholic&utm_medium=referral&utm_source=facebook&fbclid=IwAR0WKaiNhzOjE7xk9QrnGgjQPW23Vdksc5093YBiFyMVyVLQFNuehBwX3H0\n",
    "\n",
    "Q4 [2 points]- Summarize the article in no more than a paragraph in the following cell. Your summary should include IBM CEO's decision, a concise version of CNBC report, and ACLU reaction/stance about the IBM's move. Your summary should be your own sentences. Do NOT copy/paste the article sentences, as it would be considered plagiarism!"
   ]
  },
  {
   "cell_type": "markdown",
   "metadata": {},
   "source": [
    "YOUR ANSWERS GO HERE:\n",
    "\n",
    "Q1 [2 points]- \"The robot misconception is related to the myth that machines can’t control humans. Intelligence enables control: humans control tigers not because we are stronger, but because we are smarter. This means that if we cede our position as smartest on our planet, it’s possible that we might also cede control.\" I believe that this is a very valid point and it's one that somewhat worries me. However, I believe that if we make a superior intelligence with certain fears and cautions in mind, we'll be okay. We would have to pigeonhole that intelligence so that it stays under our control because I don't believe that we as a species should cede control to intelligence that does not have benevolence for our conscious, feeling, and emotional peoples. Since we are the ones that are creating it, we have more control over it than a tiger would over us. Perhaps if a tiger created us, it would build us in a way that we would never have goals to lock the tiger in the cage. And even though we may be made to have freedom of thought so that we can think of more intelligent solutions than the tiger and can benefit the tiger, we won't actually have complete freedom because it would not be in the tiger's interest. There have to be restrictions.\n",
    "\n",
    "Q2 [1 point]- America and China\n",
    "\n",
    "Q3 [1 point]- \"Because our voices carry a lot of valuable information.\" Sing states that from analyzing Hitler's voice, she has 100% confidence that he had Parkinsons.\n",
    "\n",
    "Q4 [2 points]- IBM has recognized how it's facial recognition technologies could be used to discriminate against certain races or groups of people. IBM is specifically worried about the use of facial recognition software for profiling done by the police after the death of George Floyd. IBM is supported by the ACLU, and many other organizations who are calling for other tech giants to follow suit. IBM also seems to be putting pressure on Congress for policing reform, as IBM's CEO, Arvind Krishna, expressed her concerns with Congress. Krishna even goes as far as showing support for a specific piece of legislation that the Democrats are presenting to Congress, emphasizing the company's seriousness regarding their values."
   ]
  },
  {
   "cell_type": "markdown",
   "metadata": {},
   "source": [
    "## Part III - Trying Colab"
   ]
  },
  {
   "cell_type": "markdown",
   "metadata": {},
   "source": [
    "In Part III, you should run your notebook in [Colab](https://colab.research.google.com) and take a screenshot after you run it in Colab. First upload your notebook to your Google Drive Account. Alternatively, you can click on \"File\" menu in Colab page, and then click \"Upload notebook\". \n",
    "\n",
    "Once you run the notebook in Colab, take a screenshot, save the image in the same working directory of your notebook here.\n",
    "\n",
    "Name the screenshot file: `colab.png`\n",
    "\n",
    "There is a link in the following cell that, once you save the image in the notebook working directory, will be displayed.\n",
    "\n",
    "The screenshot should clearly show the first code cell (Python Version) in colab. You can crop your screenshot or change the zoom of your web browser so that the screenshot clearly shows the top part of your notebook and the Python version."
   ]
  },
  {
   "cell_type": "markdown",
   "metadata": {},
   "source": [
    "Your Colab screenshot will be displayed HERE:\n",
    "\n",
    "<center><img src=\"colab.png\" align=\"center\"/></center>"
   ]
  },
  {
   "cell_type": "markdown",
   "metadata": {},
   "source": [
    "##  Grading"
   ]
  },
  {
   "cell_type": "markdown",
   "metadata": {},
   "source": [
    "Assignment 0 has 10 points. The breakdown is as follows:\n",
    "\n",
    "Part I - Python Setup: 2 points\n",
    "\n",
    "Part II - Chapter 1 Supplementary Questions: 6 points\n",
    "\n",
    "Part III: Colab: 2 points"
   ]
  },
  {
   "cell_type": "markdown",
   "metadata": {},
   "source": [
    "## How to Submit and Due Date"
   ]
  },
  {
   "cell_type": "markdown",
   "metadata": {},
   "source": [
    "First, name your notebook ```Lastname-A0.ipynb```.  So, for me it would be ```Vafaei-A0.ipynb```.  \n",
    "\n",
    "Then, make a zip file of your Jupyter Notebook .ipynb file and the screenshot of Colab `colab.png`\n",
    "\n",
    "Also, name the zip file ```Lastname-A0.zip```\n",
    "\n",
    "Submit the zip file using the ```Assignment-0``` link on Blackboard.\n",
    "\n",
    "Grading will be based on completeness and correctness of all the required tasks, prompts and questions. Points will be deducted if you have mistakes in naming the files and/or in making the zip file.\n",
    "\n",
    "  \n",
    "<font color=red><b>Due Date: Thursday Sep 3, 11:59PM</b></font>"
   ]
  }
 ],
 "metadata": {
  "anaconda-cloud": {},
  "kernelspec": {
   "display_name": "Python 3",
   "language": "python",
   "name": "python3"
  },
  "language_info": {
   "codemirror_mode": {
    "name": "ipython",
    "version": 3
   },
   "file_extension": ".py",
   "mimetype": "text/x-python",
   "name": "python",
   "nbconvert_exporter": "python",
   "pygments_lexer": "ipython3",
   "version": "3.8.3"
  }
 },
 "nbformat": 4,
 "nbformat_minor": 1
}
